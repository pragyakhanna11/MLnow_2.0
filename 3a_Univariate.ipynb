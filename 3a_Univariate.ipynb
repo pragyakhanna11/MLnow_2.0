{
  "nbformat": 4,
  "nbformat_minor": 0,
  "metadata": {
    "colab": {
      "name": "3a_Univariate.ipynb",
      "provenance": [],
      "mount_file_id": "15KB_guYbL0ulgIKOTKkOeDbyP5Z1MKuP",
      "authorship_tag": "ABX9TyMr8YWLHPvUt1a1wLkAtwXi",
      "include_colab_link": true
    },
    "kernelspec": {
      "name": "python3",
      "display_name": "Python 3"
    },
    "language_info": {
      "name": "python"
    }
  },
  "cells": [
    {
      "cell_type": "markdown",
      "metadata": {
        "id": "view-in-github",
        "colab_type": "text"
      },
      "source": [
        "<a href=\"https://colab.research.google.com/github/pragyakhanna11/MLnow_2.0/blob/main/3a_Univariate.ipynb\" target=\"_parent\"><img src=\"https://colab.research.google.com/assets/colab-badge.svg\" alt=\"Open In Colab\"/></a>"
      ]
    },
    {
      "cell_type": "markdown",
      "metadata": {
        "id": "_3UXewyTQiax"
      },
      "source": [
        "# Univariate Linear Regression"
      ]
    },
    {
      "cell_type": "markdown",
      "metadata": {
        "id": "e8FnRGLCQs4Z"
      },
      "source": [
        "## Load the dataset and perform pre-processing tasks:"
      ]
    },
    {
      "cell_type": "code",
      "metadata": {
        "id": "WwPqwoy9YSfD"
      },
      "source": [
        "import pandas as pd\n",
        "import seaborn as sns\n",
        "import matplotlib.pyplot as plt\n",
        "import tensorflow as tf\n",
        "from tensorflow import keras\n",
        "import os "
      ],
      "execution_count": 25,
      "outputs": []
    },
    {
      "cell_type": "code",
      "metadata": {
        "colab": {
          "base_uri": "https://localhost:8080/",
          "height": 203
        },
        "id": "sQjvbP4mRNCy",
        "outputId": "22dbe742-fbea-4056-f0e9-3f93b4f71800"
      },
      "source": [
        "population = pd.read_csv('/content/drive/MyDrive/Datasets/popularity.csv')\n",
        "population.head()"
      ],
      "execution_count": 3,
      "outputs": [
        {
          "output_type": "execute_result",
          "data": {
            "text/html": [
              "<div>\n",
              "<style scoped>\n",
              "    .dataframe tbody tr th:only-of-type {\n",
              "        vertical-align: middle;\n",
              "    }\n",
              "\n",
              "    .dataframe tbody tr th {\n",
              "        vertical-align: top;\n",
              "    }\n",
              "\n",
              "    .dataframe thead th {\n",
              "        text-align: right;\n",
              "    }\n",
              "</style>\n",
              "<table border=\"1\" class=\"dataframe\">\n",
              "  <thead>\n",
              "    <tr style=\"text-align: right;\">\n",
              "      <th></th>\n",
              "      <th>Unnamed: 0</th>\n",
              "      <th>avg_shares</th>\n",
              "      <th>avg_comments</th>\n",
              "      <th>avg_expert</th>\n",
              "      <th>popularity_score</th>\n",
              "    </tr>\n",
              "  </thead>\n",
              "  <tbody>\n",
              "    <tr>\n",
              "      <th>0</th>\n",
              "      <td>19</td>\n",
              "      <td>147.3</td>\n",
              "      <td>23.9</td>\n",
              "      <td>19.1</td>\n",
              "      <td>14.6</td>\n",
              "    </tr>\n",
              "    <tr>\n",
              "      <th>1</th>\n",
              "      <td>91</td>\n",
              "      <td>28.6</td>\n",
              "      <td>1.5</td>\n",
              "      <td>33.0</td>\n",
              "      <td>7.3</td>\n",
              "    </tr>\n",
              "    <tr>\n",
              "      <th>2</th>\n",
              "      <td>166</td>\n",
              "      <td>17.9</td>\n",
              "      <td>37.6</td>\n",
              "      <td>21.6</td>\n",
              "      <td>8.0</td>\n",
              "    </tr>\n",
              "    <tr>\n",
              "      <th>3</th>\n",
              "      <td>196</td>\n",
              "      <td>94.2</td>\n",
              "      <td>4.9</td>\n",
              "      <td>8.1</td>\n",
              "      <td>9.7</td>\n",
              "    </tr>\n",
              "    <tr>\n",
              "      <th>4</th>\n",
              "      <td>42</td>\n",
              "      <td>293.6</td>\n",
              "      <td>27.7</td>\n",
              "      <td>1.8</td>\n",
              "      <td>20.7</td>\n",
              "    </tr>\n",
              "  </tbody>\n",
              "</table>\n",
              "</div>"
            ],
            "text/plain": [
              "   Unnamed: 0  avg_shares  avg_comments  avg_expert  popularity_score\n",
              "0          19       147.3          23.9        19.1              14.6\n",
              "1          91        28.6           1.5        33.0               7.3\n",
              "2         166        17.9          37.6        21.6               8.0\n",
              "3         196        94.2           4.9         8.1               9.7\n",
              "4          42       293.6          27.7         1.8              20.7"
            ]
          },
          "metadata": {
            "tags": []
          },
          "execution_count": 3
        }
      ]
    },
    {
      "cell_type": "markdown",
      "metadata": {
        "id": "I2ri2QpMReJn"
      },
      "source": [
        "### Remove the first column of ‘Unnamed: 0’"
      ]
    },
    {
      "cell_type": "code",
      "metadata": {
        "colab": {
          "base_uri": "https://localhost:8080/",
          "height": 203
        },
        "id": "F9cJuGDdRdtn",
        "outputId": "049d3d00-89f1-4ed0-e552-4b5cc60a851e"
      },
      "source": [
        "population.drop('Unnamed: 0', axis=1, inplace=True)\n",
        "population.head()"
      ],
      "execution_count": 4,
      "outputs": [
        {
          "output_type": "execute_result",
          "data": {
            "text/html": [
              "<div>\n",
              "<style scoped>\n",
              "    .dataframe tbody tr th:only-of-type {\n",
              "        vertical-align: middle;\n",
              "    }\n",
              "\n",
              "    .dataframe tbody tr th {\n",
              "        vertical-align: top;\n",
              "    }\n",
              "\n",
              "    .dataframe thead th {\n",
              "        text-align: right;\n",
              "    }\n",
              "</style>\n",
              "<table border=\"1\" class=\"dataframe\">\n",
              "  <thead>\n",
              "    <tr style=\"text-align: right;\">\n",
              "      <th></th>\n",
              "      <th>avg_shares</th>\n",
              "      <th>avg_comments</th>\n",
              "      <th>avg_expert</th>\n",
              "      <th>popularity_score</th>\n",
              "    </tr>\n",
              "  </thead>\n",
              "  <tbody>\n",
              "    <tr>\n",
              "      <th>0</th>\n",
              "      <td>147.3</td>\n",
              "      <td>23.9</td>\n",
              "      <td>19.1</td>\n",
              "      <td>14.6</td>\n",
              "    </tr>\n",
              "    <tr>\n",
              "      <th>1</th>\n",
              "      <td>28.6</td>\n",
              "      <td>1.5</td>\n",
              "      <td>33.0</td>\n",
              "      <td>7.3</td>\n",
              "    </tr>\n",
              "    <tr>\n",
              "      <th>2</th>\n",
              "      <td>17.9</td>\n",
              "      <td>37.6</td>\n",
              "      <td>21.6</td>\n",
              "      <td>8.0</td>\n",
              "    </tr>\n",
              "    <tr>\n",
              "      <th>3</th>\n",
              "      <td>94.2</td>\n",
              "      <td>4.9</td>\n",
              "      <td>8.1</td>\n",
              "      <td>9.7</td>\n",
              "    </tr>\n",
              "    <tr>\n",
              "      <th>4</th>\n",
              "      <td>293.6</td>\n",
              "      <td>27.7</td>\n",
              "      <td>1.8</td>\n",
              "      <td>20.7</td>\n",
              "    </tr>\n",
              "  </tbody>\n",
              "</table>\n",
              "</div>"
            ],
            "text/plain": [
              "   avg_shares  avg_comments  avg_expert  popularity_score\n",
              "0       147.3          23.9        19.1              14.6\n",
              "1        28.6           1.5        33.0               7.3\n",
              "2        17.9          37.6        21.6               8.0\n",
              "3        94.2           4.9         8.1               9.7\n",
              "4       293.6          27.7         1.8              20.7"
            ]
          },
          "metadata": {
            "tags": []
          },
          "execution_count": 4
        }
      ]
    },
    {
      "cell_type": "markdown",
      "metadata": {
        "id": "BtHqQaYQSGFx"
      },
      "source": [
        "## Detect missing values, and replace them with the mean."
      ]
    },
    {
      "cell_type": "code",
      "metadata": {
        "colab": {
          "base_uri": "https://localhost:8080/"
        },
        "id": "OoZ2UFhARZ-R",
        "outputId": "d3d8527a-0c72-4af7-9f59-344b37e779f2"
      },
      "source": [
        "population.isnull().sum()"
      ],
      "execution_count": 5,
      "outputs": [
        {
          "output_type": "execute_result",
          "data": {
            "text/plain": [
              "avg_shares          1\n",
              "avg_comments        4\n",
              "avg_expert          0\n",
              "popularity_score    0\n",
              "dtype: int64"
            ]
          },
          "metadata": {
            "tags": []
          },
          "execution_count": 5
        }
      ]
    },
    {
      "cell_type": "code",
      "metadata": {
        "colab": {
          "base_uri": "https://localhost:8080/"
        },
        "id": "415RP1mVSVzb",
        "outputId": "a79181b0-d6ff-4b11-8493-31de509fee7d"
      },
      "source": [
        "population.mean()"
      ],
      "execution_count": 6,
      "outputs": [
        {
          "output_type": "execute_result",
          "data": {
            "text/plain": [
              "avg_shares          147.291457\n",
              "avg_comments         23.319388\n",
              "avg_expert           30.554000\n",
              "popularity_score     14.022500\n",
              "dtype: float64"
            ]
          },
          "metadata": {
            "tags": []
          },
          "execution_count": 6
        }
      ]
    },
    {
      "cell_type": "code",
      "metadata": {
        "colab": {
          "base_uri": "https://localhost:8080/"
        },
        "id": "nxK9fmEUSfLJ",
        "outputId": "caee2d01-c6ef-48c4-c0f9-896696875f95"
      },
      "source": [
        "population.fillna(population.mean(), inplace=True)\n",
        "population.isnull().sum()"
      ],
      "execution_count": 7,
      "outputs": [
        {
          "output_type": "execute_result",
          "data": {
            "text/plain": [
              "avg_shares          0\n",
              "avg_comments        0\n",
              "avg_expert          0\n",
              "popularity_score    0\n",
              "dtype: int64"
            ]
          },
          "metadata": {
            "tags": []
          },
          "execution_count": 7
        }
      ]
    },
    {
      "cell_type": "markdown",
      "metadata": {
        "id": "avRxhAWxS_Gq"
      },
      "source": [
        "### Draw box-plots for each attribute to detect if there are any outliers."
      ]
    },
    {
      "cell_type": "code",
      "metadata": {
        "colab": {
          "base_uri": "https://localhost:8080/",
          "height": 283
        },
        "id": "S5brRXngS6g8",
        "outputId": "05e71ce5-6622-44c8-c87a-76abde1bd491"
      },
      "source": [
        "sns.boxplot(data=population, palette='rainbow')"
      ],
      "execution_count": null,
      "outputs": [
        {
          "output_type": "execute_result",
          "data": {
            "text/plain": [
              "<matplotlib.axes._subplots.AxesSubplot at 0x7fa1f45ce6d0>"
            ]
          },
          "metadata": {
            "tags": []
          },
          "execution_count": 7
        },
        {
          "output_type": "display_data",
          "data": {
            "image/png": "[encoded data removed]",
            "text/plain": [
              "<Figure size 432x288 with 1 Axes>"
            ]
          },
          "metadata": {
            "tags": [],
            "needs_background": "light"
          }
        }
      ]
    },
    {
      "cell_type": "markdown",
      "metadata": {
        "id": "-4H-fPK7Tf96"
      },
      "source": [
        "**We observe there are few outliers in avg_expert column**"
      ]
    },
    {
      "cell_type": "markdown",
      "metadata": {
        "id": "Y5w3OkQIUIDJ"
      },
      "source": [
        "### Normalize all attributes within the range of 0 to 1."
      ]
    },
    {
      "cell_type": "code",
      "metadata": {
        "id": "49zMROMlTHSm"
      },
      "source": [
        "from sklearn import preprocessing"
      ],
      "execution_count": 8,
      "outputs": []
    },
    {
      "cell_type": "code",
      "metadata": {
        "colab": {
          "base_uri": "https://localhost:8080/",
          "height": 203
        },
        "id": "a9znvNCcUQoq",
        "outputId": "5770dd02-c44e-4604-819d-b7a5c0de9ccc"
      },
      "source": [
        "name = population.columns\n",
        "norm_df = pd.DataFrame(preprocessing.normalize(population), columns= name)\n",
        "norm_df.head()"
      ],
      "execution_count": 9,
      "outputs": [
        {
          "output_type": "execute_result",
          "data": {
            "text/html": [
              "<div>\n",
              "<style scoped>\n",
              "    .dataframe tbody tr th:only-of-type {\n",
              "        vertical-align: middle;\n",
              "    }\n",
              "\n",
              "    .dataframe tbody tr th {\n",
              "        vertical-align: top;\n",
              "    }\n",
              "\n",
              "    .dataframe thead th {\n",
              "        text-align: right;\n",
              "    }\n",
              "</style>\n",
              "<table border=\"1\" class=\"dataframe\">\n",
              "  <thead>\n",
              "    <tr style=\"text-align: right;\">\n",
              "      <th></th>\n",
              "      <th>avg_shares</th>\n",
              "      <th>avg_comments</th>\n",
              "      <th>avg_expert</th>\n",
              "      <th>popularity_score</th>\n",
              "    </tr>\n",
              "  </thead>\n",
              "  <tbody>\n",
              "    <tr>\n",
              "      <th>0</th>\n",
              "      <td>0.974525</td>\n",
              "      <td>0.158121</td>\n",
              "      <td>0.126364</td>\n",
              "      <td>0.096592</td>\n",
              "    </tr>\n",
              "    <tr>\n",
              "      <th>1</th>\n",
              "      <td>0.645597</td>\n",
              "      <td>0.033860</td>\n",
              "      <td>0.744919</td>\n",
              "      <td>0.164785</td>\n",
              "    </tr>\n",
              "    <tr>\n",
              "      <th>2</th>\n",
              "      <td>0.376136</td>\n",
              "      <td>0.790096</td>\n",
              "      <td>0.453885</td>\n",
              "      <td>0.168105</td>\n",
              "    </tr>\n",
              "    <tr>\n",
              "      <th>3</th>\n",
              "      <td>0.989807</td>\n",
              "      <td>0.051487</td>\n",
              "      <td>0.085111</td>\n",
              "      <td>0.101923</td>\n",
              "    </tr>\n",
              "    <tr>\n",
              "      <th>4</th>\n",
              "      <td>0.993117</td>\n",
              "      <td>0.093697</td>\n",
              "      <td>0.006089</td>\n",
              "      <td>0.070019</td>\n",
              "    </tr>\n",
              "  </tbody>\n",
              "</table>\n",
              "</div>"
            ],
            "text/plain": [
              "   avg_shares  avg_comments  avg_expert  popularity_score\n",
              "0    0.974525      0.158121    0.126364          0.096592\n",
              "1    0.645597      0.033860    0.744919          0.164785\n",
              "2    0.376136      0.790096    0.453885          0.168105\n",
              "3    0.989807      0.051487    0.085111          0.101923\n",
              "4    0.993117      0.093697    0.006089          0.070019"
            ]
          },
          "metadata": {
            "tags": []
          },
          "execution_count": 9
        }
      ]
    },
    {
      "cell_type": "markdown",
      "metadata": {
        "id": "zcGjgxzsUvNy"
      },
      "source": [
        "## Visualize the relationship of each attribute with the target attribute. (Popularity_score)"
      ]
    },
    {
      "cell_type": "code",
      "metadata": {
        "colab": {
          "base_uri": "https://localhost:8080/",
          "height": 623
        },
        "id": "EKM2cUMqUj8D",
        "outputId": "c13b104c-a124-4973-9a6c-83b7053b4a51"
      },
      "source": [
        "fig, axarr = plt.subplots(3, figsize=(10,10))\n",
        "sns.scatterplot(y='avg_shares', x='popularity_score',data=norm_df ,hue=None, ax=axarr[0])\n",
        "sns.scatterplot(y='avg_comments', x='popularity_score', data=norm_df, ax=axarr[1])\n",
        "sns.scatterplot(y='avg_expert', x='popularity_score', data=norm_df, ax=axarr[2])"
      ],
      "execution_count": 16,
      "outputs": [
        {
          "output_type": "execute_result",
          "data": {
            "text/plain": [
              "<matplotlib.axes._subplots.AxesSubplot at 0x7ff78837a050>"
            ]
          },
          "metadata": {
            "tags": []
          },
          "execution_count": 16
        },
        {
          "output_type": "display_data",
          "data": {
            "image/png": "[encoded data removed]",
            "text/plain": [
              "<Figure size 720x720 with 3 Axes>"
            ]
          },
          "metadata": {
            "tags": [],
            "needs_background": "light"
          }
        }
      ]
    },
    {
      "cell_type": "code",
      "metadata": {
        "colab": {
          "base_uri": "https://localhost:8080/",
          "height": 567
        },
        "id": "vP8z2M3vbrxa",
        "outputId": "3f2a9e2a-a48d-4706-a70b-4ae9b5ff1983"
      },
      "source": [
        "sns.pairplot(norm_df, x_vars=['popularity_score'], y_vars=['avg_shares', 'avg_comments', 'avg_expert'])"
      ],
      "execution_count": 15,
      "outputs": [
        {
          "output_type": "execute_result",
          "data": {
            "text/plain": [
              "<seaborn.axisgrid.PairGrid at 0x7ff78899e690>"
            ]
          },
          "metadata": {
            "tags": []
          },
          "execution_count": 15
        },
        {
          "output_type": "display_data",
          "data": {
            "image/png": "[encoded data removed]",
            "text/plain": [
              "<Figure size 180x540 with 3 Axes>"
            ]
          },
          "metadata": {
            "tags": [],
            "needs_background": "light"
          }
        }
      ]
    },
    {
      "cell_type": "code",
      "metadata": {
        "colab": {
          "base_uri": "https://localhost:8080/",
          "height": 297
        },
        "id": "6Jq6BvrSjE3B",
        "outputId": "62bd5503-567b-4b4f-986a-a67fddc3339f"
      },
      "source": [
        "sns.stripplot(y='popularity_score', x='avg_comments', data=norm_df)"
      ],
      "execution_count": 18,
      "outputs": [
        {
          "output_type": "execute_result",
          "data": {
            "text/plain": [
              "<matplotlib.axes._subplots.AxesSubplot at 0x7ff787d0ed90>"
            ]
          },
          "metadata": {
            "tags": []
          },
          "execution_count": 18
        },
        {
          "output_type": "display_data",
          "data": {
            "image/png": "[encoded data removed]",
            "text/plain": [
              "<Figure size 432x288 with 1 Axes>"
            ]
          },
          "metadata": {
            "tags": [],
            "needs_background": "light"
          }
        }
      ]
    },
    {
      "cell_type": "markdown",
      "metadata": {
        "id": "snzrVHfqYarz"
      },
      "source": [
        "## 3. Split the dataset into train and test, into 70% and 30% respectively. "
      ]
    },
    {
      "cell_type": "code",
      "metadata": {
        "id": "r8W74JNFWkru",
        "colab": {
          "base_uri": "https://localhost:8080/"
        },
        "outputId": "8d2837f4-f6b7-4331-c902-5885ccac406b"
      },
      "source": [
        "feature_cols = ['avg_shares', 'avg_comments', 'avg_expert']\n",
        "X = norm_df[feature_cols[1]]\n",
        "X"
      ],
      "execution_count": 47,
      "outputs": [
        {
          "output_type": "execute_result",
          "data": {
            "text/plain": [
              "0      0.158121\n",
              "1      0.033860\n",
              "2      0.790096\n",
              "3      0.051487\n",
              "4      0.093697\n",
              "         ...   \n",
              "195    0.832617\n",
              "196    0.314961\n",
              "197    0.024477\n",
              "198    0.013477\n",
              "199    0.161204\n",
              "Name: avg_comments, Length: 200, dtype: float64"
            ]
          },
          "metadata": {
            "tags": []
          },
          "execution_count": 47
        }
      ]
    },
    {
      "cell_type": "code",
      "metadata": {
        "id": "FIjHT60tgt_z"
      },
      "source": [
        "Y = norm_df['popularity_score']"
      ],
      "execution_count": 38,
      "outputs": []
    },
    {
      "cell_type": "code",
      "metadata": {
        "id": "BwJtgsY1hBmS"
      },
      "source": [
        "from sklearn.model_selection import train_test_split"
      ],
      "execution_count": 39,
      "outputs": []
    },
    {
      "cell_type": "code",
      "metadata": {
        "id": "LgoCIUIDqb4_"
      },
      "source": [
        "X_train, X_test, y_train, y_test = train_test_split(X, Y,\n",
        " test_size=0.3, \n",
        " random_state=123)"
      ],
      "execution_count": 48,
      "outputs": []
    },
    {
      "cell_type": "code",
      "metadata": {
        "colab": {
          "base_uri": "https://localhost:8080/"
        },
        "id": "B_G6inF5qqzV",
        "outputId": "c4cb0e9c-7374-47fe-da73-13f77fa82d79"
      },
      "source": [
        "X_train.shape"
      ],
      "execution_count": 23,
      "outputs": [
        {
          "output_type": "execute_result",
          "data": {
            "text/plain": [
              "(140, 3)"
            ]
          },
          "metadata": {
            "tags": []
          },
          "execution_count": 23
        }
      ]
    },
    {
      "cell_type": "code",
      "metadata": {
        "colab": {
          "base_uri": "https://localhost:8080/"
        },
        "id": "o917D6B2q3kf",
        "outputId": "0041ccf8-20bb-43fd-8970-1e709d2074d2"
      },
      "source": [
        "X_test.shape"
      ],
      "execution_count": 24,
      "outputs": [
        {
          "output_type": "execute_result",
          "data": {
            "text/plain": [
              "(60, 3)"
            ]
          },
          "metadata": {
            "tags": []
          },
          "execution_count": 24
        }
      ]
    },
    {
      "cell_type": "code",
      "metadata": {
        "id": "Pf6-gzf4kfma"
      },
      "source": [
        "model = tf.keras.Sequential([\n",
        "                             tf.keras.layers.Dense(1)\n",
        "\n",
        "])"
      ],
      "execution_count": 49,
      "outputs": []
    },
    {
      "cell_type": "code",
      "metadata": {
        "id": "jLjyWG6MkhRr"
      },
      "source": [
        "model.compile(\n",
        "    loss = 'mean_absolute_error', #minimizing the MAE loss\n",
        "    optimizer = tf.keras.optimizers.Adam(0.001), #learning rate specified as 0.001\n",
        "    # optimizer = 'adam', #takes the default learning rate\n",
        "    metrics = ['mae', 'mse'] #meanSquare and meanAbsolute error metrics\n",
        ")"
      ],
      "execution_count": 50,
      "outputs": []
    },
    {
      "cell_type": "code",
      "metadata": {
        "colab": {
          "base_uri": "https://localhost:8080/"
        },
        "id": "7xDhyGooklPC",
        "outputId": "6f0f4122-75a6-4056-9fcd-d40826dff18c"
      },
      "source": [
        "numEpochs = 300\n",
        "history = model.fit(x = X_train, y = y_train, validation_data = (X_test, y_test), epochs = numEpochs)"
      ],
      "execution_count": 51,
      "outputs": [
        {
          "output_type": "stream",
          "text": [
            "Epoch 1/300\n",
            "5/5 [==============================] - 1s 40ms/step - loss: 0.2051 - mae: 0.2051 - mse: 0.1014 - val_loss: 0.2786 - val_mae: 0.2786 - val_mse: 0.1811\n",
            "Epoch 2/300\n",
            "5/5 [==============================] - 0s 7ms/step - loss: 0.2017 - mae: 0.2017 - mse: 0.0986 - val_loss: 0.2739 - val_mae: 0.2739 - val_mse: 0.1772\n",
            "Epoch 3/300\n",
            "5/5 [==============================] - 0s 7ms/step - loss: 0.1985 - mae: 0.1985 - mse: 0.0961 - val_loss: 0.2695 - val_mae: 0.2695 - val_mse: 0.1735\n",
            "Epoch 4/300\n",
            "5/5 [==============================] - 0s 8ms/step - loss: 0.1956 - mae: 0.1956 - mse: 0.0939 - val_loss: 0.2654 - val_mae: 0.2654 - val_mse: 0.1699\n",
            "Epoch 5/300\n",
            "5/5 [==============================] - 0s 7ms/step - loss: 0.1927 - mae: 0.1927 - mse: 0.0917 - val_loss: 0.2615 - val_mae: 0.2615 - val_mse: 0.1663\n",
            "Epoch 6/300\n",
            "5/5 [==============================] - 0s 7ms/step - loss: 0.1899 - mae: 0.1899 - mse: 0.0895 - val_loss: 0.2576 - val_mae: 0.2576 - val_mse: 0.1629\n",
            "Epoch 7/300\n",
            "5/5 [==============================] - 0s 6ms/step - loss: 0.1872 - mae: 0.1872 - mse: 0.0873 - val_loss: 0.2538 - val_mae: 0.2538 - val_mse: 0.1595\n",
            "Epoch 8/300\n",
            "5/5 [==============================] - 0s 8ms/step - loss: 0.1844 - mae: 0.1844 - mse: 0.0853 - val_loss: 0.2501 - val_mae: 0.2501 - val_mse: 0.1562\n",
            "Epoch 9/300\n",
            "5/5 [==============================] - 0s 8ms/step - loss: 0.1818 - mae: 0.1818 - mse: 0.0833 - val_loss: 0.2464 - val_mae: 0.2464 - val_mse: 0.1530\n",
            "Epoch 10/300\n",
            "5/5 [==============================] - 0s 8ms/step - loss: 0.1793 - mae: 0.1793 - mse: 0.0814 - val_loss: 0.2428 - val_mae: 0.2428 - val_mse: 0.1499\n",
            "Epoch 11/300\n",
            "5/5 [==============================] - 0s 9ms/step - loss: 0.1769 - mae: 0.1769 - mse: 0.0796 - val_loss: 0.2394 - val_mae: 0.2394 - val_mse: 0.1469\n",
            "Epoch 12/300\n",
            "5/5 [==============================] - 0s 8ms/step - loss: 0.1746 - mae: 0.1746 - mse: 0.0779 - val_loss: 0.2361 - val_mae: 0.2361 - val_mse: 0.1441\n",
            "Epoch 13/300\n",
            "5/5 [==============================] - 0s 10ms/step - loss: 0.1726 - mae: 0.1726 - mse: 0.0764 - val_loss: 0.2329 - val_mae: 0.2329 - val_mse: 0.1414\n",
            "Epoch 14/300\n",
            "5/5 [==============================] - 0s 7ms/step - loss: 0.1706 - mae: 0.1706 - mse: 0.0747 - val_loss: 0.2299 - val_mae: 0.2299 - val_mse: 0.1388\n",
            "Epoch 15/300\n",
            "5/5 [==============================] - 0s 7ms/step - loss: 0.1688 - mae: 0.1688 - mse: 0.0733 - val_loss: 0.2272 - val_mae: 0.2272 - val_mse: 0.1362\n",
            "Epoch 16/300\n",
            "5/5 [==============================] - 0s 7ms/step - loss: 0.1670 - mae: 0.1670 - mse: 0.0719 - val_loss: 0.2247 - val_mae: 0.2247 - val_mse: 0.1339\n",
            "Epoch 17/300\n",
            "5/5 [==============================] - 0s 7ms/step - loss: 0.1654 - mae: 0.1654 - mse: 0.0706 - val_loss: 0.2225 - val_mae: 0.2225 - val_mse: 0.1316\n",
            "Epoch 18/300\n",
            "5/5 [==============================] - 0s 7ms/step - loss: 0.1639 - mae: 0.1639 - mse: 0.0694 - val_loss: 0.2204 - val_mae: 0.2204 - val_mse: 0.1293\n",
            "Epoch 19/300\n",
            "5/5 [==============================] - 0s 7ms/step - loss: 0.1623 - mae: 0.1623 - mse: 0.0682 - val_loss: 0.2185 - val_mae: 0.2185 - val_mse: 0.1273\n",
            "Epoch 20/300\n",
            "5/5 [==============================] - 0s 7ms/step - loss: 0.1611 - mae: 0.1611 - mse: 0.0671 - val_loss: 0.2167 - val_mae: 0.2167 - val_mse: 0.1253\n",
            "Epoch 21/300\n",
            "5/5 [==============================] - 0s 7ms/step - loss: 0.1599 - mae: 0.1599 - mse: 0.0661 - val_loss: 0.2152 - val_mae: 0.2152 - val_mse: 0.1236\n",
            "Epoch 22/300\n",
            "5/5 [==============================] - 0s 7ms/step - loss: 0.1591 - mae: 0.1591 - mse: 0.0652 - val_loss: 0.2139 - val_mae: 0.2139 - val_mse: 0.1219\n",
            "Epoch 23/300\n",
            "5/5 [==============================] - 0s 7ms/step - loss: 0.1582 - mae: 0.1582 - mse: 0.0642 - val_loss: 0.2127 - val_mae: 0.2127 - val_mse: 0.1204\n",
            "Epoch 24/300\n",
            "5/5 [==============================] - 0s 7ms/step - loss: 0.1576 - mae: 0.1576 - mse: 0.0636 - val_loss: 0.2115 - val_mae: 0.2115 - val_mse: 0.1189\n",
            "Epoch 25/300\n",
            "5/5 [==============================] - 0s 6ms/step - loss: 0.1568 - mae: 0.1568 - mse: 0.0628 - val_loss: 0.2105 - val_mae: 0.2105 - val_mse: 0.1176\n",
            "Epoch 26/300\n",
            "5/5 [==============================] - 0s 8ms/step - loss: 0.1564 - mae: 0.1564 - mse: 0.0621 - val_loss: 0.2094 - val_mae: 0.2094 - val_mse: 0.1163\n",
            "Epoch 27/300\n",
            "5/5 [==============================] - 0s 8ms/step - loss: 0.1557 - mae: 0.1557 - mse: 0.0615 - val_loss: 0.2086 - val_mae: 0.2086 - val_mse: 0.1153\n",
            "Epoch 28/300\n",
            "5/5 [==============================] - 0s 7ms/step - loss: 0.1552 - mae: 0.1552 - mse: 0.0610 - val_loss: 0.2078 - val_mae: 0.2078 - val_mse: 0.1142\n",
            "Epoch 29/300\n",
            "5/5 [==============================] - 0s 7ms/step - loss: 0.1547 - mae: 0.1547 - mse: 0.0604 - val_loss: 0.2070 - val_mae: 0.2070 - val_mse: 0.1132\n",
            "Epoch 30/300\n",
            "5/5 [==============================] - 0s 8ms/step - loss: 0.1542 - mae: 0.1542 - mse: 0.0599 - val_loss: 0.2063 - val_mae: 0.2063 - val_mse: 0.1122\n",
            "Epoch 31/300\n",
            "5/5 [==============================] - 0s 8ms/step - loss: 0.1537 - mae: 0.1537 - mse: 0.0594 - val_loss: 0.2056 - val_mae: 0.2056 - val_mse: 0.1113\n",
            "Epoch 32/300\n",
            "5/5 [==============================] - 0s 8ms/step - loss: 0.1532 - mae: 0.1532 - mse: 0.0590 - val_loss: 0.2049 - val_mae: 0.2049 - val_mse: 0.1105\n",
            "Epoch 33/300\n",
            "5/5 [==============================] - 0s 6ms/step - loss: 0.1528 - mae: 0.1528 - mse: 0.0585 - val_loss: 0.2041 - val_mae: 0.2041 - val_mse: 0.1094\n",
            "Epoch 34/300\n",
            "5/5 [==============================] - 0s 6ms/step - loss: 0.1522 - mae: 0.1522 - mse: 0.0579 - val_loss: 0.2034 - val_mae: 0.2034 - val_mse: 0.1084\n",
            "Epoch 35/300\n",
            "5/5 [==============================] - 0s 7ms/step - loss: 0.1518 - mae: 0.1518 - mse: 0.0574 - val_loss: 0.2027 - val_mae: 0.2027 - val_mse: 0.1074\n",
            "Epoch 36/300\n",
            "5/5 [==============================] - 0s 6ms/step - loss: 0.1512 - mae: 0.1512 - mse: 0.0570 - val_loss: 0.2020 - val_mae: 0.2020 - val_mse: 0.1065\n",
            "Epoch 37/300\n",
            "5/5 [==============================] - 0s 6ms/step - loss: 0.1507 - mae: 0.1507 - mse: 0.0566 - val_loss: 0.2014 - val_mae: 0.2014 - val_mse: 0.1059\n",
            "Epoch 38/300\n",
            "5/5 [==============================] - 0s 7ms/step - loss: 0.1503 - mae: 0.1503 - mse: 0.0561 - val_loss: 0.2008 - val_mae: 0.2008 - val_mse: 0.1052\n",
            "Epoch 39/300\n",
            "5/5 [==============================] - 0s 6ms/step - loss: 0.1498 - mae: 0.1498 - mse: 0.0558 - val_loss: 0.2001 - val_mae: 0.2001 - val_mse: 0.1043\n",
            "Epoch 40/300\n",
            "5/5 [==============================] - 0s 9ms/step - loss: 0.1493 - mae: 0.1493 - mse: 0.0553 - val_loss: 0.1994 - val_mae: 0.1994 - val_mse: 0.1034\n",
            "Epoch 41/300\n",
            "5/5 [==============================] - 0s 8ms/step - loss: 0.1488 - mae: 0.1488 - mse: 0.0548 - val_loss: 0.1987 - val_mae: 0.1987 - val_mse: 0.1025\n",
            "Epoch 42/300\n",
            "5/5 [==============================] - 0s 10ms/step - loss: 0.1483 - mae: 0.1483 - mse: 0.0544 - val_loss: 0.1980 - val_mae: 0.1980 - val_mse: 0.1018\n",
            "Epoch 43/300\n",
            "5/5 [==============================] - 0s 7ms/step - loss: 0.1478 - mae: 0.1478 - mse: 0.0540 - val_loss: 0.1973 - val_mae: 0.1973 - val_mse: 0.1008\n",
            "Epoch 44/300\n",
            "5/5 [==============================] - 0s 9ms/step - loss: 0.1473 - mae: 0.1473 - mse: 0.0535 - val_loss: 0.1965 - val_mae: 0.1965 - val_mse: 0.0999\n",
            "Epoch 45/300\n",
            "5/5 [==============================] - 0s 7ms/step - loss: 0.1468 - mae: 0.1468 - mse: 0.0530 - val_loss: 0.1959 - val_mae: 0.1959 - val_mse: 0.0990\n",
            "Epoch 46/300\n",
            "5/5 [==============================] - 0s 7ms/step - loss: 0.1463 - mae: 0.1463 - mse: 0.0526 - val_loss: 0.1952 - val_mae: 0.1952 - val_mse: 0.0983\n",
            "Epoch 47/300\n",
            "5/5 [==============================] - 0s 8ms/step - loss: 0.1458 - mae: 0.1458 - mse: 0.0522 - val_loss: 0.1945 - val_mae: 0.1945 - val_mse: 0.0976\n",
            "Epoch 48/300\n",
            "5/5 [==============================] - 0s 9ms/step - loss: 0.1454 - mae: 0.1454 - mse: 0.0519 - val_loss: 0.1938 - val_mae: 0.1938 - val_mse: 0.0968\n",
            "Epoch 49/300\n",
            "5/5 [==============================] - 0s 8ms/step - loss: 0.1449 - mae: 0.1449 - mse: 0.0514 - val_loss: 0.1932 - val_mae: 0.1932 - val_mse: 0.0960\n",
            "Epoch 50/300\n",
            "5/5 [==============================] - 0s 9ms/step - loss: 0.1444 - mae: 0.1444 - mse: 0.0511 - val_loss: 0.1925 - val_mae: 0.1925 - val_mse: 0.0953\n",
            "Epoch 51/300\n",
            "5/5 [==============================] - 0s 7ms/step - loss: 0.1440 - mae: 0.1440 - mse: 0.0507 - val_loss: 0.1918 - val_mae: 0.1918 - val_mse: 0.0947\n",
            "Epoch 52/300\n",
            "5/5 [==============================] - 0s 7ms/step - loss: 0.1435 - mae: 0.1435 - mse: 0.0504 - val_loss: 0.1912 - val_mae: 0.1912 - val_mse: 0.0941\n",
            "Epoch 53/300\n",
            "5/5 [==============================] - 0s 8ms/step - loss: 0.1430 - mae: 0.1430 - mse: 0.0500 - val_loss: 0.1905 - val_mae: 0.1905 - val_mse: 0.0935\n",
            "Epoch 54/300\n",
            "5/5 [==============================] - 0s 7ms/step - loss: 0.1425 - mae: 0.1425 - mse: 0.0497 - val_loss: 0.1899 - val_mae: 0.1899 - val_mse: 0.0928\n",
            "Epoch 55/300\n",
            "5/5 [==============================] - 0s 7ms/step - loss: 0.1420 - mae: 0.1420 - mse: 0.0494 - val_loss: 0.1892 - val_mae: 0.1892 - val_mse: 0.0921\n",
            "Epoch 56/300\n",
            "5/5 [==============================] - 0s 7ms/step - loss: 0.1416 - mae: 0.1416 - mse: 0.0490 - val_loss: 0.1885 - val_mae: 0.1885 - val_mse: 0.0912\n",
            "Epoch 57/300\n",
            "5/5 [==============================] - 0s 8ms/step - loss: 0.1410 - mae: 0.1410 - mse: 0.0485 - val_loss: 0.1878 - val_mae: 0.1878 - val_mse: 0.0905\n",
            "Epoch 58/300\n",
            "5/5 [==============================] - 0s 8ms/step - loss: 0.1406 - mae: 0.1406 - mse: 0.0482 - val_loss: 0.1872 - val_mae: 0.1872 - val_mse: 0.0897\n",
            "Epoch 59/300\n",
            "5/5 [==============================] - 0s 8ms/step - loss: 0.1401 - mae: 0.1401 - mse: 0.0478 - val_loss: 0.1865 - val_mae: 0.1865 - val_mse: 0.0890\n",
            "Epoch 60/300\n",
            "5/5 [==============================] - 0s 8ms/step - loss: 0.1396 - mae: 0.1396 - mse: 0.0474 - val_loss: 0.1859 - val_mae: 0.1859 - val_mse: 0.0883\n",
            "Epoch 61/300\n",
            "5/5 [==============================] - 0s 7ms/step - loss: 0.1391 - mae: 0.1391 - mse: 0.0470 - val_loss: 0.1852 - val_mae: 0.1852 - val_mse: 0.0876\n",
            "Epoch 62/300\n",
            "5/5 [==============================] - 0s 7ms/step - loss: 0.1387 - mae: 0.1387 - mse: 0.0467 - val_loss: 0.1845 - val_mae: 0.1845 - val_mse: 0.0869\n",
            "Epoch 63/300\n",
            "5/5 [==============================] - 0s 8ms/step - loss: 0.1381 - mae: 0.1381 - mse: 0.0463 - val_loss: 0.1839 - val_mae: 0.1839 - val_mse: 0.0864\n",
            "Epoch 64/300\n",
            "5/5 [==============================] - 0s 9ms/step - loss: 0.1377 - mae: 0.1377 - mse: 0.0460 - val_loss: 0.1833 - val_mae: 0.1833 - val_mse: 0.0859\n",
            "Epoch 65/300\n",
            "5/5 [==============================] - 0s 7ms/step - loss: 0.1372 - mae: 0.1372 - mse: 0.0457 - val_loss: 0.1826 - val_mae: 0.1826 - val_mse: 0.0855\n",
            "Epoch 66/300\n",
            "5/5 [==============================] - 0s 8ms/step - loss: 0.1368 - mae: 0.1368 - mse: 0.0455 - val_loss: 0.1820 - val_mae: 0.1820 - val_mse: 0.0850\n",
            "Epoch 67/300\n",
            "5/5 [==============================] - 0s 7ms/step - loss: 0.1362 - mae: 0.1362 - mse: 0.0452 - val_loss: 0.1813 - val_mae: 0.1813 - val_mse: 0.0845\n",
            "Epoch 68/300\n",
            "5/5 [==============================] - 0s 8ms/step - loss: 0.1357 - mae: 0.1357 - mse: 0.0449 - val_loss: 0.1806 - val_mae: 0.1806 - val_mse: 0.0838\n",
            "Epoch 69/300\n",
            "5/5 [==============================] - 0s 7ms/step - loss: 0.1352 - mae: 0.1352 - mse: 0.0445 - val_loss: 0.1799 - val_mae: 0.1799 - val_mse: 0.0831\n",
            "Epoch 70/300\n",
            "5/5 [==============================] - 0s 7ms/step - loss: 0.1347 - mae: 0.1347 - mse: 0.0441 - val_loss: 0.1792 - val_mae: 0.1792 - val_mse: 0.0824\n",
            "Epoch 71/300\n",
            "5/5 [==============================] - 0s 8ms/step - loss: 0.1342 - mae: 0.1342 - mse: 0.0438 - val_loss: 0.1785 - val_mae: 0.1785 - val_mse: 0.0817\n",
            "Epoch 72/300\n",
            "5/5 [==============================] - 0s 8ms/step - loss: 0.1337 - mae: 0.1337 - mse: 0.0434 - val_loss: 0.1778 - val_mae: 0.1778 - val_mse: 0.0810\n",
            "Epoch 73/300\n",
            "5/5 [==============================] - 0s 8ms/step - loss: 0.1332 - mae: 0.1332 - mse: 0.0431 - val_loss: 0.1772 - val_mae: 0.1772 - val_mse: 0.0804\n",
            "Epoch 74/300\n",
            "5/5 [==============================] - 0s 7ms/step - loss: 0.1327 - mae: 0.1327 - mse: 0.0428 - val_loss: 0.1765 - val_mae: 0.1765 - val_mse: 0.0799\n",
            "Epoch 75/300\n",
            "5/5 [==============================] - 0s 7ms/step - loss: 0.1322 - mae: 0.1322 - mse: 0.0425 - val_loss: 0.1758 - val_mae: 0.1758 - val_mse: 0.0791\n",
            "Epoch 76/300\n",
            "5/5 [==============================] - 0s 8ms/step - loss: 0.1317 - mae: 0.1317 - mse: 0.0421 - val_loss: 0.1751 - val_mae: 0.1751 - val_mse: 0.0784\n",
            "Epoch 77/300\n",
            "5/5 [==============================] - 0s 7ms/step - loss: 0.1312 - mae: 0.1312 - mse: 0.0418 - val_loss: 0.1745 - val_mae: 0.1745 - val_mse: 0.0781\n",
            "Epoch 78/300\n",
            "5/5 [==============================] - 0s 8ms/step - loss: 0.1307 - mae: 0.1307 - mse: 0.0415 - val_loss: 0.1738 - val_mae: 0.1738 - val_mse: 0.0777\n",
            "Epoch 79/300\n",
            "5/5 [==============================] - 0s 8ms/step - loss: 0.1302 - mae: 0.1302 - mse: 0.0413 - val_loss: 0.1732 - val_mae: 0.1732 - val_mse: 0.0771\n",
            "Epoch 80/300\n",
            "5/5 [==============================] - 0s 8ms/step - loss: 0.1297 - mae: 0.1297 - mse: 0.0410 - val_loss: 0.1725 - val_mae: 0.1725 - val_mse: 0.0767\n",
            "Epoch 81/300\n",
            "5/5 [==============================] - 0s 8ms/step - loss: 0.1292 - mae: 0.1292 - mse: 0.0407 - val_loss: 0.1719 - val_mae: 0.1719 - val_mse: 0.0762\n",
            "Epoch 82/300\n",
            "5/5 [==============================] - 0s 7ms/step - loss: 0.1287 - mae: 0.1287 - mse: 0.0404 - val_loss: 0.1712 - val_mae: 0.1712 - val_mse: 0.0758\n",
            "Epoch 83/300\n",
            "5/5 [==============================] - 0s 8ms/step - loss: 0.1283 - mae: 0.1283 - mse: 0.0402 - val_loss: 0.1706 - val_mae: 0.1706 - val_mse: 0.0754\n",
            "Epoch 84/300\n",
            "5/5 [==============================] - 0s 9ms/step - loss: 0.1278 - mae: 0.1278 - mse: 0.0399 - val_loss: 0.1699 - val_mae: 0.1699 - val_mse: 0.0748\n",
            "Epoch 85/300\n",
            "5/5 [==============================] - 0s 8ms/step - loss: 0.1273 - mae: 0.1273 - mse: 0.0397 - val_loss: 0.1692 - val_mae: 0.1692 - val_mse: 0.0743\n",
            "Epoch 86/300\n",
            "5/5 [==============================] - 0s 8ms/step - loss: 0.1268 - mae: 0.1268 - mse: 0.0394 - val_loss: 0.1686 - val_mae: 0.1686 - val_mse: 0.0739\n",
            "Epoch 87/300\n",
            "5/5 [==============================] - 0s 8ms/step - loss: 0.1263 - mae: 0.1263 - mse: 0.0391 - val_loss: 0.1680 - val_mae: 0.1680 - val_mse: 0.0735\n",
            "Epoch 88/300\n",
            "5/5 [==============================] - 0s 9ms/step - loss: 0.1258 - mae: 0.1258 - mse: 0.0389 - val_loss: 0.1673 - val_mae: 0.1673 - val_mse: 0.0729\n",
            "Epoch 89/300\n",
            "5/5 [==============================] - 0s 8ms/step - loss: 0.1253 - mae: 0.1253 - mse: 0.0385 - val_loss: 0.1666 - val_mae: 0.1666 - val_mse: 0.0724\n",
            "Epoch 90/300\n",
            "5/5 [==============================] - 0s 8ms/step - loss: 0.1248 - mae: 0.1248 - mse: 0.0383 - val_loss: 0.1659 - val_mae: 0.1659 - val_mse: 0.0719\n",
            "Epoch 91/300\n",
            "5/5 [==============================] - 0s 8ms/step - loss: 0.1243 - mae: 0.1243 - mse: 0.0380 - val_loss: 0.1653 - val_mae: 0.1653 - val_mse: 0.0713\n",
            "Epoch 92/300\n",
            "5/5 [==============================] - 0s 7ms/step - loss: 0.1238 - mae: 0.1238 - mse: 0.0377 - val_loss: 0.1645 - val_mae: 0.1645 - val_mse: 0.0706\n",
            "Epoch 93/300\n",
            "5/5 [==============================] - 0s 7ms/step - loss: 0.1232 - mae: 0.1232 - mse: 0.0373 - val_loss: 0.1639 - val_mae: 0.1639 - val_mse: 0.0701\n",
            "Epoch 94/300\n",
            "5/5 [==============================] - 0s 7ms/step - loss: 0.1228 - mae: 0.1228 - mse: 0.0370 - val_loss: 0.1631 - val_mae: 0.1631 - val_mse: 0.0694\n",
            "Epoch 95/300\n",
            "5/5 [==============================] - 0s 8ms/step - loss: 0.1222 - mae: 0.1222 - mse: 0.0367 - val_loss: 0.1625 - val_mae: 0.1625 - val_mse: 0.0689\n",
            "Epoch 96/300\n",
            "5/5 [==============================] - 0s 8ms/step - loss: 0.1217 - mae: 0.1217 - mse: 0.0364 - val_loss: 0.1618 - val_mae: 0.1618 - val_mse: 0.0683\n",
            "Epoch 97/300\n",
            "5/5 [==============================] - 0s 7ms/step - loss: 0.1213 - mae: 0.1213 - mse: 0.0361 - val_loss: 0.1611 - val_mae: 0.1611 - val_mse: 0.0678\n",
            "Epoch 98/300\n",
            "5/5 [==============================] - 0s 9ms/step - loss: 0.1208 - mae: 0.1208 - mse: 0.0358 - val_loss: 0.1605 - val_mae: 0.1605 - val_mse: 0.0673\n",
            "Epoch 99/300\n",
            "5/5 [==============================] - 0s 8ms/step - loss: 0.1203 - mae: 0.1203 - mse: 0.0355 - val_loss: 0.1598 - val_mae: 0.1598 - val_mse: 0.0669\n",
            "Epoch 100/300\n",
            "5/5 [==============================] - 0s 8ms/step - loss: 0.1198 - mae: 0.1198 - mse: 0.0353 - val_loss: 0.1591 - val_mae: 0.1591 - val_mse: 0.0662\n",
            "Epoch 101/300\n",
            "5/5 [==============================] - 0s 11ms/step - loss: 0.1193 - mae: 0.1193 - mse: 0.0349 - val_loss: 0.1584 - val_mae: 0.1584 - val_mse: 0.0657\n",
            "Epoch 102/300\n",
            "5/5 [==============================] - 0s 12ms/step - loss: 0.1188 - mae: 0.1188 - mse: 0.0346 - val_loss: 0.1577 - val_mae: 0.1577 - val_mse: 0.0650\n",
            "Epoch 103/300\n",
            "5/5 [==============================] - 0s 9ms/step - loss: 0.1182 - mae: 0.1182 - mse: 0.0343 - val_loss: 0.1570 - val_mae: 0.1570 - val_mse: 0.0644\n",
            "Epoch 104/300\n",
            "5/5 [==============================] - 0s 9ms/step - loss: 0.1177 - mae: 0.1177 - mse: 0.0340 - val_loss: 0.1563 - val_mae: 0.1563 - val_mse: 0.0638\n",
            "Epoch 105/300\n",
            "5/5 [==============================] - 0s 8ms/step - loss: 0.1172 - mae: 0.1172 - mse: 0.0337 - val_loss: 0.1556 - val_mae: 0.1556 - val_mse: 0.0633\n",
            "Epoch 106/300\n",
            "5/5 [==============================] - 0s 7ms/step - loss: 0.1167 - mae: 0.1167 - mse: 0.0334 - val_loss: 0.1549 - val_mae: 0.1549 - val_mse: 0.0627\n",
            "Epoch 107/300\n",
            "5/5 [==============================] - 0s 7ms/step - loss: 0.1162 - mae: 0.1162 - mse: 0.0331 - val_loss: 0.1542 - val_mae: 0.1542 - val_mse: 0.0621\n",
            "Epoch 108/300\n",
            "5/5 [==============================] - 0s 9ms/step - loss: 0.1157 - mae: 0.1157 - mse: 0.0328 - val_loss: 0.1536 - val_mae: 0.1536 - val_mse: 0.0617\n",
            "Epoch 109/300\n",
            "5/5 [==============================] - 0s 9ms/step - loss: 0.1151 - mae: 0.1151 - mse: 0.0326 - val_loss: 0.1529 - val_mae: 0.1529 - val_mse: 0.0614\n",
            "Epoch 110/300\n",
            "5/5 [==============================] - 0s 9ms/step - loss: 0.1146 - mae: 0.1146 - mse: 0.0323 - val_loss: 0.1523 - val_mae: 0.1523 - val_mse: 0.0610\n",
            "Epoch 111/300\n",
            "5/5 [==============================] - 0s 9ms/step - loss: 0.1141 - mae: 0.1141 - mse: 0.0321 - val_loss: 0.1515 - val_mae: 0.1515 - val_mse: 0.0604\n",
            "Epoch 112/300\n",
            "5/5 [==============================] - 0s 8ms/step - loss: 0.1136 - mae: 0.1136 - mse: 0.0318 - val_loss: 0.1508 - val_mae: 0.1508 - val_mse: 0.0599\n",
            "Epoch 113/300\n",
            "5/5 [==============================] - 0s 8ms/step - loss: 0.1131 - mae: 0.1131 - mse: 0.0315 - val_loss: 0.1501 - val_mae: 0.1501 - val_mse: 0.0593\n",
            "Epoch 114/300\n",
            "5/5 [==============================] - 0s 8ms/step - loss: 0.1125 - mae: 0.1125 - mse: 0.0312 - val_loss: 0.1494 - val_mae: 0.1494 - val_mse: 0.0588\n",
            "Epoch 115/300\n",
            "5/5 [==============================] - 0s 8ms/step - loss: 0.1120 - mae: 0.1120 - mse: 0.0310 - val_loss: 0.1487 - val_mae: 0.1487 - val_mse: 0.0583\n",
            "Epoch 116/300\n",
            "5/5 [==============================] - 0s 8ms/step - loss: 0.1115 - mae: 0.1115 - mse: 0.0307 - val_loss: 0.1480 - val_mae: 0.1480 - val_mse: 0.0578\n",
            "Epoch 117/300\n",
            "5/5 [==============================] - 0s 11ms/step - loss: 0.1110 - mae: 0.1110 - mse: 0.0304 - val_loss: 0.1473 - val_mae: 0.1473 - val_mse: 0.0573\n",
            "Epoch 118/300\n",
            "5/5 [==============================] - 0s 12ms/step - loss: 0.1105 - mae: 0.1105 - mse: 0.0301 - val_loss: 0.1467 - val_mae: 0.1467 - val_mse: 0.0567\n",
            "Epoch 119/300\n",
            "5/5 [==============================] - 0s 8ms/step - loss: 0.1100 - mae: 0.1100 - mse: 0.0298 - val_loss: 0.1459 - val_mae: 0.1459 - val_mse: 0.0561\n",
            "Epoch 120/300\n",
            "5/5 [==============================] - 0s 7ms/step - loss: 0.1094 - mae: 0.1094 - mse: 0.0295 - val_loss: 0.1453 - val_mae: 0.1453 - val_mse: 0.0556\n",
            "Epoch 121/300\n",
            "5/5 [==============================] - 0s 8ms/step - loss: 0.1089 - mae: 0.1089 - mse: 0.0293 - val_loss: 0.1446 - val_mae: 0.1446 - val_mse: 0.0551\n",
            "Epoch 122/300\n",
            "5/5 [==============================] - 0s 7ms/step - loss: 0.1084 - mae: 0.1084 - mse: 0.0289 - val_loss: 0.1439 - val_mae: 0.1439 - val_mse: 0.0544\n",
            "Epoch 123/300\n",
            "5/5 [==============================] - 0s 8ms/step - loss: 0.1079 - mae: 0.1079 - mse: 0.0286 - val_loss: 0.1431 - val_mae: 0.1431 - val_mse: 0.0537\n",
            "Epoch 124/300\n",
            "5/5 [==============================] - 0s 8ms/step - loss: 0.1073 - mae: 0.1073 - mse: 0.0282 - val_loss: 0.1424 - val_mae: 0.1424 - val_mse: 0.0531\n",
            "Epoch 125/300\n",
            "5/5 [==============================] - 0s 8ms/step - loss: 0.1068 - mae: 0.1068 - mse: 0.0279 - val_loss: 0.1417 - val_mae: 0.1417 - val_mse: 0.0524\n",
            "Epoch 126/300\n",
            "5/5 [==============================] - 0s 7ms/step - loss: 0.1063 - mae: 0.1063 - mse: 0.0276 - val_loss: 0.1410 - val_mae: 0.1410 - val_mse: 0.0520\n",
            "Epoch 127/300\n",
            "5/5 [==============================] - 0s 8ms/step - loss: 0.1057 - mae: 0.1057 - mse: 0.0274 - val_loss: 0.1402 - val_mae: 0.1402 - val_mse: 0.0515\n",
            "Epoch 128/300\n",
            "5/5 [==============================] - 0s 9ms/step - loss: 0.1052 - mae: 0.1052 - mse: 0.0271 - val_loss: 0.1396 - val_mae: 0.1396 - val_mse: 0.0509\n",
            "Epoch 129/300\n",
            "5/5 [==============================] - 0s 9ms/step - loss: 0.1047 - mae: 0.1047 - mse: 0.0268 - val_loss: 0.1389 - val_mae: 0.1389 - val_mse: 0.0502\n",
            "Epoch 130/300\n",
            "5/5 [==============================] - 0s 9ms/step - loss: 0.1041 - mae: 0.1041 - mse: 0.0265 - val_loss: 0.1382 - val_mae: 0.1382 - val_mse: 0.0497\n",
            "Epoch 131/300\n",
            "5/5 [==============================] - 0s 7ms/step - loss: 0.1036 - mae: 0.1036 - mse: 0.0262 - val_loss: 0.1376 - val_mae: 0.1376 - val_mse: 0.0492\n",
            "Epoch 132/300\n",
            "5/5 [==============================] - 0s 9ms/step - loss: 0.1032 - mae: 0.1032 - mse: 0.0259 - val_loss: 0.1369 - val_mae: 0.1369 - val_mse: 0.0487\n",
            "Epoch 133/300\n",
            "5/5 [==============================] - 0s 7ms/step - loss: 0.1026 - mae: 0.1026 - mse: 0.0257 - val_loss: 0.1362 - val_mae: 0.1362 - val_mse: 0.0483\n",
            "Epoch 134/300\n",
            "5/5 [==============================] - 0s 7ms/step - loss: 0.1021 - mae: 0.1021 - mse: 0.0254 - val_loss: 0.1355 - val_mae: 0.1355 - val_mse: 0.0479\n",
            "Epoch 135/300\n",
            "5/5 [==============================] - 0s 9ms/step - loss: 0.1016 - mae: 0.1016 - mse: 0.0252 - val_loss: 0.1348 - val_mae: 0.1348 - val_mse: 0.0474\n",
            "Epoch 136/300\n",
            "5/5 [==============================] - 0s 7ms/step - loss: 0.1011 - mae: 0.1011 - mse: 0.0250 - val_loss: 0.1341 - val_mae: 0.1341 - val_mse: 0.0471\n",
            "Epoch 137/300\n",
            "5/5 [==============================] - 0s 9ms/step - loss: 0.1005 - mae: 0.1005 - mse: 0.0248 - val_loss: 0.1333 - val_mae: 0.1333 - val_mse: 0.0466\n",
            "Epoch 138/300\n",
            "5/5 [==============================] - 0s 8ms/step - loss: 0.1000 - mae: 0.1000 - mse: 0.0245 - val_loss: 0.1326 - val_mae: 0.1326 - val_mse: 0.0461\n",
            "Epoch 139/300\n",
            "5/5 [==============================] - 0s 9ms/step - loss: 0.0995 - mae: 0.0995 - mse: 0.0242 - val_loss: 0.1320 - val_mae: 0.1320 - val_mse: 0.0455\n",
            "Epoch 140/300\n",
            "5/5 [==============================] - 0s 8ms/step - loss: 0.0990 - mae: 0.0990 - mse: 0.0240 - val_loss: 0.1313 - val_mae: 0.1313 - val_mse: 0.0451\n",
            "Epoch 141/300\n",
            "5/5 [==============================] - 0s 8ms/step - loss: 0.0985 - mae: 0.0985 - mse: 0.0237 - val_loss: 0.1306 - val_mae: 0.1306 - val_mse: 0.0445\n",
            "Epoch 142/300\n",
            "5/5 [==============================] - 0s 8ms/step - loss: 0.0979 - mae: 0.0979 - mse: 0.0235 - val_loss: 0.1299 - val_mae: 0.1299 - val_mse: 0.0442\n",
            "Epoch 143/300\n",
            "5/5 [==============================] - 0s 8ms/step - loss: 0.0974 - mae: 0.0974 - mse: 0.0233 - val_loss: 0.1292 - val_mae: 0.1292 - val_mse: 0.0439\n",
            "Epoch 144/300\n",
            "5/5 [==============================] - 0s 12ms/step - loss: 0.0969 - mae: 0.0969 - mse: 0.0231 - val_loss: 0.1285 - val_mae: 0.1285 - val_mse: 0.0435\n",
            "Epoch 145/300\n",
            "5/5 [==============================] - 0s 8ms/step - loss: 0.0964 - mae: 0.0964 - mse: 0.0229 - val_loss: 0.1278 - val_mae: 0.1278 - val_mse: 0.0432\n",
            "Epoch 146/300\n",
            "5/5 [==============================] - 0s 8ms/step - loss: 0.0959 - mae: 0.0959 - mse: 0.0226 - val_loss: 0.1270 - val_mae: 0.1270 - val_mse: 0.0427\n",
            "Epoch 147/300\n",
            "5/5 [==============================] - 0s 8ms/step - loss: 0.0953 - mae: 0.0953 - mse: 0.0224 - val_loss: 0.1263 - val_mae: 0.1263 - val_mse: 0.0423\n",
            "Epoch 148/300\n",
            "5/5 [==============================] - 0s 10ms/step - loss: 0.0948 - mae: 0.0948 - mse: 0.0222 - val_loss: 0.1256 - val_mae: 0.1256 - val_mse: 0.0419\n",
            "Epoch 149/300\n",
            "5/5 [==============================] - 0s 8ms/step - loss: 0.0943 - mae: 0.0943 - mse: 0.0219 - val_loss: 0.1249 - val_mae: 0.1249 - val_mse: 0.0414\n",
            "Epoch 150/300\n",
            "5/5 [==============================] - 0s 9ms/step - loss: 0.0938 - mae: 0.0938 - mse: 0.0217 - val_loss: 0.1242 - val_mae: 0.1242 - val_mse: 0.0408\n",
            "Epoch 151/300\n",
            "5/5 [==============================] - 0s 8ms/step - loss: 0.0932 - mae: 0.0932 - mse: 0.0214 - val_loss: 0.1235 - val_mae: 0.1235 - val_mse: 0.0404\n",
            "Epoch 152/300\n",
            "5/5 [==============================] - 0s 7ms/step - loss: 0.0927 - mae: 0.0927 - mse: 0.0212 - val_loss: 0.1228 - val_mae: 0.1228 - val_mse: 0.0400\n",
            "Epoch 153/300\n",
            "5/5 [==============================] - 0s 8ms/step - loss: 0.0922 - mae: 0.0922 - mse: 0.0210 - val_loss: 0.1221 - val_mae: 0.1221 - val_mse: 0.0397\n",
            "Epoch 154/300\n",
            "5/5 [==============================] - 0s 7ms/step - loss: 0.0916 - mae: 0.0916 - mse: 0.0208 - val_loss: 0.1214 - val_mae: 0.1214 - val_mse: 0.0395\n",
            "Epoch 155/300\n",
            "5/5 [==============================] - 0s 8ms/step - loss: 0.0911 - mae: 0.0911 - mse: 0.0207 - val_loss: 0.1207 - val_mae: 0.1207 - val_mse: 0.0391\n",
            "Epoch 156/300\n",
            "5/5 [==============================] - 0s 8ms/step - loss: 0.0906 - mae: 0.0906 - mse: 0.0204 - val_loss: 0.1200 - val_mae: 0.1200 - val_mse: 0.0385\n",
            "Epoch 157/300\n",
            "5/5 [==============================] - 0s 9ms/step - loss: 0.0901 - mae: 0.0901 - mse: 0.0202 - val_loss: 0.1193 - val_mae: 0.1193 - val_mse: 0.0380\n",
            "Epoch 158/300\n",
            "5/5 [==============================] - 0s 10ms/step - loss: 0.0895 - mae: 0.0895 - mse: 0.0199 - val_loss: 0.1186 - val_mae: 0.1186 - val_mse: 0.0374\n",
            "Epoch 159/300\n",
            "5/5 [==============================] - 0s 7ms/step - loss: 0.0890 - mae: 0.0890 - mse: 0.0196 - val_loss: 0.1179 - val_mae: 0.1179 - val_mse: 0.0370\n",
            "Epoch 160/300\n",
            "5/5 [==============================] - 0s 8ms/step - loss: 0.0885 - mae: 0.0885 - mse: 0.0194 - val_loss: 0.1171 - val_mae: 0.1171 - val_mse: 0.0366\n",
            "Epoch 161/300\n",
            "5/5 [==============================] - 0s 8ms/step - loss: 0.0879 - mae: 0.0879 - mse: 0.0191 - val_loss: 0.1164 - val_mae: 0.1164 - val_mse: 0.0361\n",
            "Epoch 162/300\n",
            "5/5 [==============================] - 0s 11ms/step - loss: 0.0874 - mae: 0.0874 - mse: 0.0189 - val_loss: 0.1157 - val_mae: 0.1157 - val_mse: 0.0357\n",
            "Epoch 163/300\n",
            "5/5 [==============================] - 0s 9ms/step - loss: 0.0869 - mae: 0.0869 - mse: 0.0187 - val_loss: 0.1150 - val_mae: 0.1150 - val_mse: 0.0353\n",
            "Epoch 164/300\n",
            "5/5 [==============================] - 0s 7ms/step - loss: 0.0864 - mae: 0.0864 - mse: 0.0185 - val_loss: 0.1143 - val_mae: 0.1143 - val_mse: 0.0348\n",
            "Epoch 165/300\n",
            "5/5 [==============================] - 0s 8ms/step - loss: 0.0859 - mae: 0.0859 - mse: 0.0182 - val_loss: 0.1136 - val_mae: 0.1136 - val_mse: 0.0344\n",
            "Epoch 166/300\n",
            "5/5 [==============================] - 0s 8ms/step - loss: 0.0853 - mae: 0.0853 - mse: 0.0180 - val_loss: 0.1129 - val_mae: 0.1129 - val_mse: 0.0340\n",
            "Epoch 167/300\n",
            "5/5 [==============================] - 0s 10ms/step - loss: 0.0848 - mae: 0.0848 - mse: 0.0178 - val_loss: 0.1122 - val_mae: 0.1122 - val_mse: 0.0336\n",
            "Epoch 168/300\n",
            "5/5 [==============================] - 0s 8ms/step - loss: 0.0843 - mae: 0.0843 - mse: 0.0176 - val_loss: 0.1115 - val_mae: 0.1115 - val_mse: 0.0333\n",
            "Epoch 169/300\n",
            "5/5 [==============================] - 0s 8ms/step - loss: 0.0838 - mae: 0.0838 - mse: 0.0174 - val_loss: 0.1109 - val_mae: 0.1109 - val_mse: 0.0331\n",
            "Epoch 170/300\n",
            "5/5 [==============================] - 0s 8ms/step - loss: 0.0833 - mae: 0.0833 - mse: 0.0173 - val_loss: 0.1101 - val_mae: 0.1101 - val_mse: 0.0328\n",
            "Epoch 171/300\n",
            "5/5 [==============================] - 0s 8ms/step - loss: 0.0828 - mae: 0.0828 - mse: 0.0171 - val_loss: 0.1094 - val_mae: 0.1094 - val_mse: 0.0324\n",
            "Epoch 172/300\n",
            "5/5 [==============================] - 0s 11ms/step - loss: 0.0822 - mae: 0.0822 - mse: 0.0169 - val_loss: 0.1087 - val_mae: 0.1087 - val_mse: 0.0320\n",
            "Epoch 173/300\n",
            "5/5 [==============================] - 0s 7ms/step - loss: 0.0817 - mae: 0.0817 - mse: 0.0167 - val_loss: 0.1080 - val_mae: 0.1080 - val_mse: 0.0317\n",
            "Epoch 174/300\n",
            "5/5 [==============================] - 0s 8ms/step - loss: 0.0812 - mae: 0.0812 - mse: 0.0166 - val_loss: 0.1073 - val_mae: 0.1073 - val_mse: 0.0315\n",
            "Epoch 175/300\n",
            "5/5 [==============================] - 0s 8ms/step - loss: 0.0807 - mae: 0.0807 - mse: 0.0164 - val_loss: 0.1066 - val_mae: 0.1066 - val_mse: 0.0311\n",
            "Epoch 176/300\n",
            "5/5 [==============================] - 0s 8ms/step - loss: 0.0802 - mae: 0.0802 - mse: 0.0162 - val_loss: 0.1059 - val_mae: 0.1059 - val_mse: 0.0308\n",
            "Epoch 177/300\n",
            "5/5 [==============================] - 0s 9ms/step - loss: 0.0796 - mae: 0.0796 - mse: 0.0160 - val_loss: 0.1052 - val_mae: 0.1052 - val_mse: 0.0304\n",
            "Epoch 178/300\n",
            "5/5 [==============================] - 0s 7ms/step - loss: 0.0791 - mae: 0.0791 - mse: 0.0158 - val_loss: 0.1045 - val_mae: 0.1045 - val_mse: 0.0299\n",
            "Epoch 179/300\n",
            "5/5 [==============================] - 0s 7ms/step - loss: 0.0786 - mae: 0.0786 - mse: 0.0156 - val_loss: 0.1038 - val_mae: 0.1038 - val_mse: 0.0295\n",
            "Epoch 180/300\n",
            "5/5 [==============================] - 0s 9ms/step - loss: 0.0780 - mae: 0.0780 - mse: 0.0154 - val_loss: 0.1031 - val_mae: 0.1031 - val_mse: 0.0291\n",
            "Epoch 181/300\n",
            "5/5 [==============================] - 0s 8ms/step - loss: 0.0775 - mae: 0.0775 - mse: 0.0152 - val_loss: 0.1023 - val_mae: 0.1023 - val_mse: 0.0286\n",
            "Epoch 182/300\n",
            "5/5 [==============================] - 0s 7ms/step - loss: 0.0770 - mae: 0.0770 - mse: 0.0149 - val_loss: 0.1017 - val_mae: 0.1017 - val_mse: 0.0283\n",
            "Epoch 183/300\n",
            "5/5 [==============================] - 0s 7ms/step - loss: 0.0765 - mae: 0.0765 - mse: 0.0148 - val_loss: 0.1010 - val_mae: 0.1010 - val_mse: 0.0280\n",
            "Epoch 184/300\n",
            "5/5 [==============================] - 0s 9ms/step - loss: 0.0760 - mae: 0.0760 - mse: 0.0146 - val_loss: 0.1003 - val_mae: 0.1003 - val_mse: 0.0275\n",
            "Epoch 185/300\n",
            "5/5 [==============================] - 0s 7ms/step - loss: 0.0755 - mae: 0.0755 - mse: 0.0144 - val_loss: 0.0996 - val_mae: 0.0996 - val_mse: 0.0271\n",
            "Epoch 186/300\n",
            "5/5 [==============================] - 0s 11ms/step - loss: 0.0750 - mae: 0.0750 - mse: 0.0142 - val_loss: 0.0989 - val_mae: 0.0989 - val_mse: 0.0267\n",
            "Epoch 187/300\n",
            "5/5 [==============================] - 0s 7ms/step - loss: 0.0744 - mae: 0.0744 - mse: 0.0140 - val_loss: 0.0983 - val_mae: 0.0983 - val_mse: 0.0264\n",
            "Epoch 188/300\n",
            "5/5 [==============================] - 0s 8ms/step - loss: 0.0739 - mae: 0.0739 - mse: 0.0138 - val_loss: 0.0976 - val_mae: 0.0976 - val_mse: 0.0261\n",
            "Epoch 189/300\n",
            "5/5 [==============================] - 0s 8ms/step - loss: 0.0734 - mae: 0.0734 - mse: 0.0136 - val_loss: 0.0969 - val_mae: 0.0969 - val_mse: 0.0257\n",
            "Epoch 190/300\n",
            "5/5 [==============================] - 0s 9ms/step - loss: 0.0729 - mae: 0.0729 - mse: 0.0134 - val_loss: 0.0962 - val_mae: 0.0962 - val_mse: 0.0253\n",
            "Epoch 191/300\n",
            "5/5 [==============================] - 0s 8ms/step - loss: 0.0724 - mae: 0.0724 - mse: 0.0132 - val_loss: 0.0955 - val_mae: 0.0955 - val_mse: 0.0249\n",
            "Epoch 192/300\n",
            "5/5 [==============================] - 0s 10ms/step - loss: 0.0718 - mae: 0.0718 - mse: 0.0130 - val_loss: 0.0947 - val_mae: 0.0947 - val_mse: 0.0244\n",
            "Epoch 193/300\n",
            "5/5 [==============================] - 0s 11ms/step - loss: 0.0714 - mae: 0.0714 - mse: 0.0128 - val_loss: 0.0940 - val_mae: 0.0940 - val_mse: 0.0239\n",
            "Epoch 194/300\n",
            "5/5 [==============================] - 0s 10ms/step - loss: 0.0708 - mae: 0.0708 - mse: 0.0126 - val_loss: 0.0933 - val_mae: 0.0933 - val_mse: 0.0236\n",
            "Epoch 195/300\n",
            "5/5 [==============================] - 0s 9ms/step - loss: 0.0702 - mae: 0.0702 - mse: 0.0124 - val_loss: 0.0926 - val_mae: 0.0926 - val_mse: 0.0233\n",
            "Epoch 196/300\n",
            "5/5 [==============================] - 0s 9ms/step - loss: 0.0697 - mae: 0.0697 - mse: 0.0122 - val_loss: 0.0919 - val_mae: 0.0919 - val_mse: 0.0230\n",
            "Epoch 197/300\n",
            "5/5 [==============================] - 0s 8ms/step - loss: 0.0692 - mae: 0.0692 - mse: 0.0121 - val_loss: 0.0912 - val_mae: 0.0912 - val_mse: 0.0227\n",
            "Epoch 198/300\n",
            "5/5 [==============================] - 0s 8ms/step - loss: 0.0687 - mae: 0.0687 - mse: 0.0119 - val_loss: 0.0904 - val_mae: 0.0904 - val_mse: 0.0224\n",
            "Epoch 199/300\n",
            "5/5 [==============================] - 0s 9ms/step - loss: 0.0681 - mae: 0.0681 - mse: 0.0117 - val_loss: 0.0897 - val_mae: 0.0897 - val_mse: 0.0220\n",
            "Epoch 200/300\n",
            "5/5 [==============================] - 0s 7ms/step - loss: 0.0676 - mae: 0.0676 - mse: 0.0116 - val_loss: 0.0890 - val_mae: 0.0890 - val_mse: 0.0217\n",
            "Epoch 201/300\n",
            "5/5 [==============================] - 0s 12ms/step - loss: 0.0671 - mae: 0.0671 - mse: 0.0114 - val_loss: 0.0883 - val_mae: 0.0883 - val_mse: 0.0214\n",
            "Epoch 202/300\n",
            "5/5 [==============================] - 0s 11ms/step - loss: 0.0665 - mae: 0.0665 - mse: 0.0112 - val_loss: 0.0877 - val_mae: 0.0877 - val_mse: 0.0211\n",
            "Epoch 203/300\n",
            "5/5 [==============================] - 0s 10ms/step - loss: 0.0660 - mae: 0.0660 - mse: 0.0111 - val_loss: 0.0870 - val_mae: 0.0870 - val_mse: 0.0208\n",
            "Epoch 204/300\n",
            "5/5 [==============================] - 0s 9ms/step - loss: 0.0655 - mae: 0.0655 - mse: 0.0109 - val_loss: 0.0863 - val_mae: 0.0863 - val_mse: 0.0204\n",
            "Epoch 205/300\n",
            "5/5 [==============================] - 0s 8ms/step - loss: 0.0650 - mae: 0.0650 - mse: 0.0108 - val_loss: 0.0855 - val_mae: 0.0855 - val_mse: 0.0202\n",
            "Epoch 206/300\n",
            "5/5 [==============================] - 0s 7ms/step - loss: 0.0645 - mae: 0.0645 - mse: 0.0106 - val_loss: 0.0848 - val_mae: 0.0848 - val_mse: 0.0201\n",
            "Epoch 207/300\n",
            "5/5 [==============================] - 0s 7ms/step - loss: 0.0639 - mae: 0.0639 - mse: 0.0105 - val_loss: 0.0841 - val_mae: 0.0841 - val_mse: 0.0198\n",
            "Epoch 208/300\n",
            "5/5 [==============================] - 0s 9ms/step - loss: 0.0634 - mae: 0.0634 - mse: 0.0104 - val_loss: 0.0834 - val_mae: 0.0834 - val_mse: 0.0196\n",
            "Epoch 209/300\n",
            "5/5 [==============================] - 0s 8ms/step - loss: 0.0628 - mae: 0.0628 - mse: 0.0103 - val_loss: 0.0827 - val_mae: 0.0827 - val_mse: 0.0194\n",
            "Epoch 210/300\n",
            "5/5 [==============================] - 0s 9ms/step - loss: 0.0623 - mae: 0.0623 - mse: 0.0101 - val_loss: 0.0820 - val_mae: 0.0820 - val_mse: 0.0191\n",
            "Epoch 211/300\n",
            "5/5 [==============================] - 0s 9ms/step - loss: 0.0618 - mae: 0.0618 - mse: 0.0100 - val_loss: 0.0813 - val_mae: 0.0813 - val_mse: 0.0189\n",
            "Epoch 212/300\n",
            "5/5 [==============================] - 0s 8ms/step - loss: 0.0613 - mae: 0.0613 - mse: 0.0098 - val_loss: 0.0806 - val_mae: 0.0806 - val_mse: 0.0186\n",
            "Epoch 213/300\n",
            "5/5 [==============================] - 0s 8ms/step - loss: 0.0608 - mae: 0.0608 - mse: 0.0097 - val_loss: 0.0799 - val_mae: 0.0799 - val_mse: 0.0182\n",
            "Epoch 214/300\n",
            "5/5 [==============================] - 0s 8ms/step - loss: 0.0602 - mae: 0.0602 - mse: 0.0095 - val_loss: 0.0792 - val_mae: 0.0792 - val_mse: 0.0179\n",
            "Epoch 215/300\n",
            "5/5 [==============================] - 0s 10ms/step - loss: 0.0597 - mae: 0.0597 - mse: 0.0094 - val_loss: 0.0785 - val_mae: 0.0785 - val_mse: 0.0176\n",
            "Epoch 216/300\n",
            "5/5 [==============================] - 0s 8ms/step - loss: 0.0591 - mae: 0.0591 - mse: 0.0092 - val_loss: 0.0779 - val_mae: 0.0779 - val_mse: 0.0172\n",
            "Epoch 217/300\n",
            "5/5 [==============================] - 0s 9ms/step - loss: 0.0586 - mae: 0.0586 - mse: 0.0090 - val_loss: 0.0772 - val_mae: 0.0772 - val_mse: 0.0169\n",
            "Epoch 218/300\n",
            "5/5 [==============================] - 0s 8ms/step - loss: 0.0581 - mae: 0.0581 - mse: 0.0089 - val_loss: 0.0765 - val_mae: 0.0765 - val_mse: 0.0166\n",
            "Epoch 219/300\n",
            "5/5 [==============================] - 0s 9ms/step - loss: 0.0575 - mae: 0.0575 - mse: 0.0087 - val_loss: 0.0758 - val_mae: 0.0758 - val_mse: 0.0164\n",
            "Epoch 220/300\n",
            "5/5 [==============================] - 0s 7ms/step - loss: 0.0570 - mae: 0.0570 - mse: 0.0086 - val_loss: 0.0752 - val_mae: 0.0752 - val_mse: 0.0161\n",
            "Epoch 221/300\n",
            "5/5 [==============================] - 0s 8ms/step - loss: 0.0565 - mae: 0.0565 - mse: 0.0085 - val_loss: 0.0745 - val_mae: 0.0745 - val_mse: 0.0158\n",
            "Epoch 222/300\n",
            "5/5 [==============================] - 0s 8ms/step - loss: 0.0560 - mae: 0.0560 - mse: 0.0083 - val_loss: 0.0738 - val_mae: 0.0738 - val_mse: 0.0156\n",
            "Epoch 223/300\n",
            "5/5 [==============================] - 0s 8ms/step - loss: 0.0555 - mae: 0.0555 - mse: 0.0082 - val_loss: 0.0731 - val_mae: 0.0731 - val_mse: 0.0153\n",
            "Epoch 224/300\n",
            "5/5 [==============================] - 0s 9ms/step - loss: 0.0549 - mae: 0.0549 - mse: 0.0081 - val_loss: 0.0724 - val_mae: 0.0724 - val_mse: 0.0151\n",
            "Epoch 225/300\n",
            "5/5 [==============================] - 0s 9ms/step - loss: 0.0544 - mae: 0.0544 - mse: 0.0079 - val_loss: 0.0717 - val_mae: 0.0717 - val_mse: 0.0148\n",
            "Epoch 226/300\n",
            "5/5 [==============================] - 0s 8ms/step - loss: 0.0539 - mae: 0.0539 - mse: 0.0078 - val_loss: 0.0710 - val_mae: 0.0710 - val_mse: 0.0145\n",
            "Epoch 227/300\n",
            "5/5 [==============================] - 0s 9ms/step - loss: 0.0533 - mae: 0.0533 - mse: 0.0077 - val_loss: 0.0704 - val_mae: 0.0704 - val_mse: 0.0143\n",
            "Epoch 228/300\n",
            "5/5 [==============================] - 0s 9ms/step - loss: 0.0528 - mae: 0.0528 - mse: 0.0075 - val_loss: 0.0697 - val_mae: 0.0697 - val_mse: 0.0140\n",
            "Epoch 229/300\n",
            "5/5 [==============================] - 0s 8ms/step - loss: 0.0522 - mae: 0.0522 - mse: 0.0074 - val_loss: 0.0690 - val_mae: 0.0690 - val_mse: 0.0137\n",
            "Epoch 230/300\n",
            "5/5 [==============================] - 0s 11ms/step - loss: 0.0517 - mae: 0.0517 - mse: 0.0073 - val_loss: 0.0683 - val_mae: 0.0683 - val_mse: 0.0135\n",
            "Epoch 231/300\n",
            "5/5 [==============================] - 0s 12ms/step - loss: 0.0512 - mae: 0.0512 - mse: 0.0071 - val_loss: 0.0676 - val_mae: 0.0676 - val_mse: 0.0132\n",
            "Epoch 232/300\n",
            "5/5 [==============================] - 0s 8ms/step - loss: 0.0506 - mae: 0.0506 - mse: 0.0070 - val_loss: 0.0670 - val_mae: 0.0670 - val_mse: 0.0129\n",
            "Epoch 233/300\n",
            "5/5 [==============================] - 0s 8ms/step - loss: 0.0501 - mae: 0.0501 - mse: 0.0068 - val_loss: 0.0663 - val_mae: 0.0663 - val_mse: 0.0126\n",
            "Epoch 234/300\n",
            "5/5 [==============================] - 0s 10ms/step - loss: 0.0496 - mae: 0.0496 - mse: 0.0067 - val_loss: 0.0657 - val_mae: 0.0657 - val_mse: 0.0122\n",
            "Epoch 235/300\n",
            "5/5 [==============================] - 0s 8ms/step - loss: 0.0490 - mae: 0.0490 - mse: 0.0066 - val_loss: 0.0651 - val_mae: 0.0651 - val_mse: 0.0119\n",
            "Epoch 236/300\n",
            "5/5 [==============================] - 0s 8ms/step - loss: 0.0485 - mae: 0.0485 - mse: 0.0064 - val_loss: 0.0644 - val_mae: 0.0644 - val_mse: 0.0117\n",
            "Epoch 237/300\n",
            "5/5 [==============================] - 0s 8ms/step - loss: 0.0480 - mae: 0.0480 - mse: 0.0063 - val_loss: 0.0637 - val_mae: 0.0637 - val_mse: 0.0114\n",
            "Epoch 238/300\n",
            "5/5 [==============================] - 0s 8ms/step - loss: 0.0474 - mae: 0.0474 - mse: 0.0062 - val_loss: 0.0631 - val_mae: 0.0631 - val_mse: 0.0112\n",
            "Epoch 239/300\n",
            "5/5 [==============================] - 0s 8ms/step - loss: 0.0469 - mae: 0.0469 - mse: 0.0061 - val_loss: 0.0624 - val_mae: 0.0624 - val_mse: 0.0109\n",
            "Epoch 240/300\n",
            "5/5 [==============================] - 0s 8ms/step - loss: 0.0464 - mae: 0.0464 - mse: 0.0060 - val_loss: 0.0617 - val_mae: 0.0617 - val_mse: 0.0107\n",
            "Epoch 241/300\n",
            "5/5 [==============================] - 0s 8ms/step - loss: 0.0459 - mae: 0.0459 - mse: 0.0059 - val_loss: 0.0611 - val_mae: 0.0611 - val_mse: 0.0105\n",
            "Epoch 242/300\n",
            "5/5 [==============================] - 0s 10ms/step - loss: 0.0454 - mae: 0.0454 - mse: 0.0058 - val_loss: 0.0603 - val_mae: 0.0603 - val_mse: 0.0104\n",
            "Epoch 243/300\n",
            "5/5 [==============================] - 0s 10ms/step - loss: 0.0449 - mae: 0.0449 - mse: 0.0057 - val_loss: 0.0596 - val_mae: 0.0596 - val_mse: 0.0102\n",
            "Epoch 244/300\n",
            "5/5 [==============================] - 0s 9ms/step - loss: 0.0444 - mae: 0.0444 - mse: 0.0056 - val_loss: 0.0589 - val_mae: 0.0589 - val_mse: 0.0100\n",
            "Epoch 245/300\n",
            "5/5 [==============================] - 0s 8ms/step - loss: 0.0438 - mae: 0.0438 - mse: 0.0055 - val_loss: 0.0583 - val_mae: 0.0583 - val_mse: 0.0098\n",
            "Epoch 246/300\n",
            "5/5 [==============================] - 0s 10ms/step - loss: 0.0433 - mae: 0.0433 - mse: 0.0054 - val_loss: 0.0576 - val_mae: 0.0576 - val_mse: 0.0097\n",
            "Epoch 247/300\n",
            "5/5 [==============================] - 0s 9ms/step - loss: 0.0428 - mae: 0.0428 - mse: 0.0053 - val_loss: 0.0569 - val_mae: 0.0569 - val_mse: 0.0095\n",
            "Epoch 248/300\n",
            "5/5 [==============================] - 0s 9ms/step - loss: 0.0423 - mae: 0.0423 - mse: 0.0052 - val_loss: 0.0562 - val_mae: 0.0562 - val_mse: 0.0093\n",
            "Epoch 249/300\n",
            "5/5 [==============================] - 0s 9ms/step - loss: 0.0418 - mae: 0.0418 - mse: 0.0051 - val_loss: 0.0555 - val_mae: 0.0555 - val_mse: 0.0091\n",
            "Epoch 250/300\n",
            "5/5 [==============================] - 0s 9ms/step - loss: 0.0413 - mae: 0.0413 - mse: 0.0050 - val_loss: 0.0548 - val_mae: 0.0548 - val_mse: 0.0090\n",
            "Epoch 251/300\n",
            "5/5 [==============================] - 0s 8ms/step - loss: 0.0408 - mae: 0.0408 - mse: 0.0049 - val_loss: 0.0541 - val_mae: 0.0541 - val_mse: 0.0088\n",
            "Epoch 252/300\n",
            "5/5 [==============================] - 0s 9ms/step - loss: 0.0403 - mae: 0.0403 - mse: 0.0048 - val_loss: 0.0535 - val_mae: 0.0535 - val_mse: 0.0086\n",
            "Epoch 253/300\n",
            "5/5 [==============================] - 0s 10ms/step - loss: 0.0398 - mae: 0.0398 - mse: 0.0047 - val_loss: 0.0529 - val_mae: 0.0529 - val_mse: 0.0083\n",
            "Epoch 254/300\n",
            "5/5 [==============================] - 0s 9ms/step - loss: 0.0393 - mae: 0.0393 - mse: 0.0046 - val_loss: 0.0523 - val_mae: 0.0523 - val_mse: 0.0081\n",
            "Epoch 255/300\n",
            "5/5 [==============================] - 0s 8ms/step - loss: 0.0388 - mae: 0.0388 - mse: 0.0045 - val_loss: 0.0517 - val_mae: 0.0517 - val_mse: 0.0079\n",
            "Epoch 256/300\n",
            "5/5 [==============================] - 0s 8ms/step - loss: 0.0383 - mae: 0.0383 - mse: 0.0045 - val_loss: 0.0510 - val_mae: 0.0510 - val_mse: 0.0078\n",
            "Epoch 257/300\n",
            "5/5 [==============================] - 0s 10ms/step - loss: 0.0378 - mae: 0.0378 - mse: 0.0044 - val_loss: 0.0503 - val_mae: 0.0503 - val_mse: 0.0077\n",
            "Epoch 258/300\n",
            "5/5 [==============================] - 0s 9ms/step - loss: 0.0373 - mae: 0.0373 - mse: 0.0043 - val_loss: 0.0497 - val_mae: 0.0497 - val_mse: 0.0075\n",
            "Epoch 259/300\n",
            "5/5 [==============================] - 0s 8ms/step - loss: 0.0368 - mae: 0.0368 - mse: 0.0042 - val_loss: 0.0491 - val_mae: 0.0491 - val_mse: 0.0073\n",
            "Epoch 260/300\n",
            "5/5 [==============================] - 0s 9ms/step - loss: 0.0363 - mae: 0.0363 - mse: 0.0041 - val_loss: 0.0485 - val_mae: 0.0485 - val_mse: 0.0071\n",
            "Epoch 261/300\n",
            "5/5 [==============================] - 0s 9ms/step - loss: 0.0358 - mae: 0.0358 - mse: 0.0040 - val_loss: 0.0479 - val_mae: 0.0479 - val_mse: 0.0069\n",
            "Epoch 262/300\n",
            "5/5 [==============================] - 0s 9ms/step - loss: 0.0353 - mae: 0.0353 - mse: 0.0039 - val_loss: 0.0474 - val_mae: 0.0474 - val_mse: 0.0067\n",
            "Epoch 263/300\n",
            "5/5 [==============================] - 0s 9ms/step - loss: 0.0348 - mae: 0.0348 - mse: 0.0039 - val_loss: 0.0467 - val_mae: 0.0467 - val_mse: 0.0065\n",
            "Epoch 264/300\n",
            "5/5 [==============================] - 0s 10ms/step - loss: 0.0343 - mae: 0.0343 - mse: 0.0038 - val_loss: 0.0461 - val_mae: 0.0461 - val_mse: 0.0063\n",
            "Epoch 265/300\n",
            "5/5 [==============================] - 0s 9ms/step - loss: 0.0338 - mae: 0.0338 - mse: 0.0037 - val_loss: 0.0454 - val_mae: 0.0454 - val_mse: 0.0062\n",
            "Epoch 266/300\n",
            "5/5 [==============================] - 0s 8ms/step - loss: 0.0333 - mae: 0.0333 - mse: 0.0036 - val_loss: 0.0447 - val_mae: 0.0447 - val_mse: 0.0061\n",
            "Epoch 267/300\n",
            "5/5 [==============================] - 0s 8ms/step - loss: 0.0327 - mae: 0.0327 - mse: 0.0036 - val_loss: 0.0441 - val_mae: 0.0441 - val_mse: 0.0059\n",
            "Epoch 268/300\n",
            "5/5 [==============================] - 0s 10ms/step - loss: 0.0323 - mae: 0.0323 - mse: 0.0035 - val_loss: 0.0434 - val_mae: 0.0434 - val_mse: 0.0058\n",
            "Epoch 269/300\n",
            "5/5 [==============================] - 0s 8ms/step - loss: 0.0317 - mae: 0.0317 - mse: 0.0034 - val_loss: 0.0428 - val_mae: 0.0428 - val_mse: 0.0056\n",
            "Epoch 270/300\n",
            "5/5 [==============================] - 0s 8ms/step - loss: 0.0312 - mae: 0.0312 - mse: 0.0033 - val_loss: 0.0422 - val_mae: 0.0422 - val_mse: 0.0054\n",
            "Epoch 271/300\n",
            "5/5 [==============================] - 0s 8ms/step - loss: 0.0307 - mae: 0.0307 - mse: 0.0033 - val_loss: 0.0416 - val_mae: 0.0416 - val_mse: 0.0053\n",
            "Epoch 272/300\n",
            "5/5 [==============================] - 0s 8ms/step - loss: 0.0302 - mae: 0.0302 - mse: 0.0032 - val_loss: 0.0409 - val_mae: 0.0409 - val_mse: 0.0052\n",
            "Epoch 273/300\n",
            "5/5 [==============================] - 0s 9ms/step - loss: 0.0297 - mae: 0.0297 - mse: 0.0032 - val_loss: 0.0403 - val_mae: 0.0403 - val_mse: 0.0050\n",
            "Epoch 274/300\n",
            "5/5 [==============================] - 0s 9ms/step - loss: 0.0292 - mae: 0.0292 - mse: 0.0031 - val_loss: 0.0397 - val_mae: 0.0397 - val_mse: 0.0049\n",
            "Epoch 275/300\n",
            "5/5 [==============================] - 0s 9ms/step - loss: 0.0287 - mae: 0.0287 - mse: 0.0030 - val_loss: 0.0391 - val_mae: 0.0391 - val_mse: 0.0047\n",
            "Epoch 276/300\n",
            "5/5 [==============================] - 0s 10ms/step - loss: 0.0282 - mae: 0.0282 - mse: 0.0030 - val_loss: 0.0385 - val_mae: 0.0385 - val_mse: 0.0046\n",
            "Epoch 277/300\n",
            "5/5 [==============================] - 0s 8ms/step - loss: 0.0277 - mae: 0.0277 - mse: 0.0029 - val_loss: 0.0378 - val_mae: 0.0378 - val_mse: 0.0044\n",
            "Epoch 278/300\n",
            "5/5 [==============================] - 0s 10ms/step - loss: 0.0272 - mae: 0.0272 - mse: 0.0029 - val_loss: 0.0372 - val_mae: 0.0372 - val_mse: 0.0043\n",
            "Epoch 279/300\n",
            "5/5 [==============================] - 0s 10ms/step - loss: 0.0267 - mae: 0.0267 - mse: 0.0028 - val_loss: 0.0366 - val_mae: 0.0366 - val_mse: 0.0042\n",
            "Epoch 280/300\n",
            "5/5 [==============================] - 0s 9ms/step - loss: 0.0262 - mae: 0.0262 - mse: 0.0027 - val_loss: 0.0360 - val_mae: 0.0360 - val_mse: 0.0041\n",
            "Epoch 281/300\n",
            "5/5 [==============================] - 0s 10ms/step - loss: 0.0258 - mae: 0.0258 - mse: 0.0027 - val_loss: 0.0355 - val_mae: 0.0355 - val_mse: 0.0040\n",
            "Epoch 282/300\n",
            "5/5 [==============================] - 0s 9ms/step - loss: 0.0253 - mae: 0.0253 - mse: 0.0027 - val_loss: 0.0350 - val_mae: 0.0350 - val_mse: 0.0039\n",
            "Epoch 283/300\n",
            "5/5 [==============================] - 0s 9ms/step - loss: 0.0250 - mae: 0.0250 - mse: 0.0026 - val_loss: 0.0344 - val_mae: 0.0344 - val_mse: 0.0038\n",
            "Epoch 284/300\n",
            "5/5 [==============================] - 0s 9ms/step - loss: 0.0246 - mae: 0.0246 - mse: 0.0026 - val_loss: 0.0339 - val_mae: 0.0339 - val_mse: 0.0037\n",
            "Epoch 285/300\n",
            "5/5 [==============================] - 0s 9ms/step - loss: 0.0241 - mae: 0.0241 - mse: 0.0025 - val_loss: 0.0335 - val_mae: 0.0335 - val_mse: 0.0036\n",
            "Epoch 286/300\n",
            "5/5 [==============================] - 0s 9ms/step - loss: 0.0238 - mae: 0.0238 - mse: 0.0025 - val_loss: 0.0331 - val_mae: 0.0331 - val_mse: 0.0035\n",
            "Epoch 287/300\n",
            "5/5 [==============================] - 0s 10ms/step - loss: 0.0234 - mae: 0.0234 - mse: 0.0025 - val_loss: 0.0325 - val_mae: 0.0325 - val_mse: 0.0034\n",
            "Epoch 288/300\n",
            "5/5 [==============================] - 0s 9ms/step - loss: 0.0231 - mae: 0.0231 - mse: 0.0024 - val_loss: 0.0321 - val_mae: 0.0321 - val_mse: 0.0033\n",
            "Epoch 289/300\n",
            "5/5 [==============================] - 0s 9ms/step - loss: 0.0229 - mae: 0.0229 - mse: 0.0024 - val_loss: 0.0319 - val_mae: 0.0319 - val_mse: 0.0032\n",
            "Epoch 290/300\n",
            "5/5 [==============================] - 0s 9ms/step - loss: 0.0224 - mae: 0.0224 - mse: 0.0023 - val_loss: 0.0315 - val_mae: 0.0315 - val_mse: 0.0031\n",
            "Epoch 291/300\n",
            "5/5 [==============================] - 0s 8ms/step - loss: 0.0222 - mae: 0.0222 - mse: 0.0023 - val_loss: 0.0313 - val_mae: 0.0313 - val_mse: 0.0031\n",
            "Epoch 292/300\n",
            "5/5 [==============================] - 0s 8ms/step - loss: 0.0219 - mae: 0.0219 - mse: 0.0023 - val_loss: 0.0310 - val_mae: 0.0310 - val_mse: 0.0030\n",
            "Epoch 293/300\n",
            "5/5 [==============================] - 0s 9ms/step - loss: 0.0217 - mae: 0.0217 - mse: 0.0023 - val_loss: 0.0308 - val_mae: 0.0308 - val_mse: 0.0029\n",
            "Epoch 294/300\n",
            "5/5 [==============================] - 0s 10ms/step - loss: 0.0215 - mae: 0.0215 - mse: 0.0022 - val_loss: 0.0305 - val_mae: 0.0305 - val_mse: 0.0029\n",
            "Epoch 295/300\n",
            "5/5 [==============================] - 0s 8ms/step - loss: 0.0213 - mae: 0.0213 - mse: 0.0022 - val_loss: 0.0302 - val_mae: 0.0302 - val_mse: 0.0028\n",
            "Epoch 296/300\n",
            "5/5 [==============================] - 0s 10ms/step - loss: 0.0211 - mae: 0.0211 - mse: 0.0022 - val_loss: 0.0301 - val_mae: 0.0301 - val_mse: 0.0028\n",
            "Epoch 297/300\n",
            "5/5 [==============================] - 0s 10ms/step - loss: 0.0210 - mae: 0.0210 - mse: 0.0022 - val_loss: 0.0300 - val_mae: 0.0300 - val_mse: 0.0027\n",
            "Epoch 298/300\n",
            "5/5 [==============================] - 0s 13ms/step - loss: 0.0208 - mae: 0.0208 - mse: 0.0022 - val_loss: 0.0296 - val_mae: 0.0296 - val_mse: 0.0027\n",
            "Epoch 299/300\n",
            "5/5 [==============================] - 0s 9ms/step - loss: 0.0206 - mae: 0.0206 - mse: 0.0021 - val_loss: 0.0294 - val_mae: 0.0294 - val_mse: 0.0026\n",
            "Epoch 300/300\n",
            "5/5 [==============================] - 0s 10ms/step - loss: 0.0204 - mae: 0.0204 - mse: 0.0021 - val_loss: 0.0292 - val_mae: 0.0292 - val_mse: 0.0026\n"
          ],
          "name": "stdout"
        }
      ]
    },
    {
      "cell_type": "code",
      "metadata": {
        "colab": {
          "base_uri": "https://localhost:8080/"
        },
        "id": "ZCt56XlqlArD",
        "outputId": "77f65d73-6c8d-42dd-91ac-cec7fcde17ac"
      },
      "source": [
        "model.summary()"
      ],
      "execution_count": 52,
      "outputs": [
        {
          "output_type": "stream",
          "text": [
            "Model: \"sequential_1\"\n",
            "_________________________________________________________________\n",
            "Layer (type)                 Output Shape              Param #   \n",
            "=================================================================\n",
            "dense_1 (Dense)              (None, 1)                 2         \n",
            "=================================================================\n",
            "Total params: 2\n",
            "Trainable params: 2\n",
            "Non-trainable params: 0\n",
            "_________________________________________________________________\n"
          ],
          "name": "stdout"
        }
      ]
    },
    {
      "cell_type": "code",
      "metadata": {
        "colab": {
          "base_uri": "https://localhost:8080/",
          "height": 803
        },
        "id": "ErXjfyh6lJhq",
        "outputId": "3bded2b9-0342-466c-bba7-120e07e1e0bd"
      },
      "source": [
        "# tempString = 'mse'\n",
        "def curvePlots(tempString):\n",
        "  plt.plot(history.history[tempString])\n",
        "  plt.plot(history.history[f'val_{tempString}'])\n",
        "  plt.xlabel('NumEpochs')\n",
        "  plt.ylabel(tempString)\n",
        "  plt.legend([tempString, f'val_{tempString}'])\n",
        "  plt.show()\n",
        "\n",
        "\n",
        "curvePlots('mse')\n",
        "curvePlots('mae')\n",
        "curvePlots('loss')"
      ],
      "execution_count": 53,
      "outputs": [
        {
          "output_type": "display_data",
          "data": {
            "image/png": "[encoded data removed]",
            "text/plain": [
              "<Figure size 432x288 with 1 Axes>"
            ]
          },
          "metadata": {
            "tags": [],
            "needs_background": "light"
          }
        },
        {
          "output_type": "display_data",
          "data": {
            "image/png": "[encoded data removed]",
            "text/plain": [
              "<Figure size 432x288 with 1 Axes>"
            ]
          },
          "metadata": {
            "tags": [],
            "needs_background": "light"
          }
        },
        {
          "output_type": "display_data",
          "data": {
            "image/png": "[encoded data removed]",
            "text/plain": [
              "<Figure size 432x288 with 1 Axes>"
            ]
          },
          "metadata": {
            "tags": [],
            "needs_background": "light"
          }
        }
      ]
    },
    {
      "cell_type": "code",
      "metadata": {
        "colab": {
          "base_uri": "https://localhost:8080/"
        },
        "id": "sJ7TqDyDmLYz",
        "outputId": "7387b206-1521-4458-94d4-cf2f891ec3f8"
      },
      "source": [
        "print(f'Prediction for input value 1: {model.predict([1])}')\n",
        "\n",
        "# for a list of values\n",
        "tempListforPreds = [1,2,3,4,5]\n",
        "print(f'''\n",
        "\n",
        "input List = {tempListforPreds}\n",
        "\n",
        "List of Predictions:\n",
        "{model.predict(tempListforPreds)}\n",
        "\n",
        "List of Predictions (flattened out):\n",
        "{model.predict(tempListforPreds).flatten()}\n",
        "''')"
      ],
      "execution_count": 56,
      "outputs": [
        {
          "output_type": "stream",
          "text": [
            "Prediction for input value 1: [[0.31129795]]\n",
            "\n",
            "\n",
            "input List = [1, 2, 3, 4, 5]\n",
            "\n",
            "\n",
            "List of Predictions:\n",
            "[[0.31129795]\n",
            " [0.5736828 ]\n",
            " [0.8360676 ]\n",
            " [1.0984524 ]\n",
            " [1.3608373 ]]\n",
            "\n",
            "List of Predictions (flattened out):\n",
            "[0.31129795 0.5736828  0.8360676  1.0984524  1.3608373 ]\n",
            "\n"
          ],
          "name": "stdout"
        }
      ]
    },
    {
      "cell_type": "code",
      "metadata": {
        "colab": {
          "base_uri": "https://localhost:8080/",
          "height": 279
        },
        "id": "LJxlUGqVs9n-",
        "outputId": "cfd06864-54fb-4632-dc91-9f1769402e60"
      },
      "source": [
        "# prediciton plot --> how well is your model predicting across the actual labels\n",
        "\n",
        "def predPlot(labels, predictions):\n",
        "  plt.scatter(labels, predictions)\n",
        "  plt.ylabel('Predictions')\n",
        "  plt.xlabel('True Value or Labels')\n",
        "  plt.axis('equal')\n",
        "  plt.axis('square')\n",
        "  plt.xlim([0, plt.xlim()[1]])\n",
        "  plt.ylim([0, plt.ylim()[1]])\n",
        "  plt.show()\n",
        "\n",
        "testPreds = model.predict(X_test).flatten()\n",
        "predPlot(y_test, testPreds)"
      ],
      "execution_count": 57,
      "outputs": [
        {
          "output_type": "display_data",
          "data": {
            "image/png": "[encoded data removed]",
            "text/plain": [
              "<Figure size 432x288 with 1 Axes>"
            ]
          },
          "metadata": {
            "tags": [],
            "needs_background": "light"
          }
        }
      ]
    },
    {
      "cell_type": "code",
      "metadata": {
        "colab": {
          "base_uri": "https://localhost:8080/",
          "height": 279
        },
        "id": "gFRBCK8FtmaF",
        "outputId": "3e3fc555-b3fc-4a17-ddf4-092741470769"
      },
      "source": [
        "#error plot --> gaussian distribution \n",
        "\n",
        "def errorPlot(preds, labels, counts):\n",
        "  errors = preds - labels\n",
        "  plt.hist(errors, counts)\n",
        "  plt.xlabel('Error')\n",
        "  plt.ylabel('Counts')\n",
        "  plt.show()\n",
        "\n",
        "errorPlot(testPreds, y_test, numEpochs)"
      ],
      "execution_count": 59,
      "outputs": [
        {
          "output_type": "display_data",
          "data": {
            "image/png": "[encoded data removed]",
            "text/plain": [
              "<Figure size 432x288 with 1 Axes>"
            ]
          },
          "metadata": {
            "tags": [],
            "needs_background": "light"
          }
        }
      ]
    }
  ]
}